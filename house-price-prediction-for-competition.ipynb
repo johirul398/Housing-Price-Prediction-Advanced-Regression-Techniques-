{
 "cells": [
  {
   "cell_type": "markdown",
   "id": "western-fellowship",
   "metadata": {
    "papermill": {
     "duration": 0.042692,
     "end_time": "2022-10-11T12:13:20.526176",
     "exception": false,
     "start_time": "2022-10-11T12:13:20.483484",
     "status": "completed"
    },
    "tags": []
   },
   "source": [
    "<h1 style=\"font-family: Arials; line-height: 3; font-size: 40px; font-weight: bold; letter-spacing: 3px; text-align: center; color:VIOLET\">House Price Prediction</h1>\n",
    "\n",
    "<p style=\"font-family: Arials; line-height: 1; font-size: 20px; font-weight: bold; letter-spacing: 1px; text-align: center\">Any kind of comment would be very gratefull to me.</p>\n",
    "\n"
   ]
  },
  {
   "cell_type": "markdown",
   "id": "published-integrity",
   "metadata": {
    "papermill": {
     "duration": 0.040354,
     "end_time": "2022-10-11T12:13:20.606254",
     "exception": false,
     "start_time": "2022-10-11T12:13:20.565900",
     "status": "completed"
    },
    "tags": []
   },
   "source": [
    "\n",
    "<img src= \"https://realstately.com/wp-content/uploads/2019/09/real-estate-price-increase.jpg\" alt =\"Titanic\" style=\" border-radius: 50%\">"
   ]
  },
  {
   "cell_type": "markdown",
   "id": "religious-valuation",
   "metadata": {
    "papermill": {
     "duration": 0.03924,
     "end_time": "2022-10-11T12:13:20.685727",
     "exception": false,
     "start_time": "2022-10-11T12:13:20.646487",
     "status": "completed"
    },
    "tags": []
   },
   "source": [
    "<p id=\"10\"></p>\n",
    "<p style=\"font-family: Arials; font-size: 30px; font-style: normal; font-weight: bold; letter-spacing: 2px; color: violet; line-height:1.0\"><a href=\"#10\" style=\"color:violet\">TABLE OF CONTENT</a></p>\n",
    "\n",
    "<p style=\"text-indent: 1vw; font-family: Arials; font-size: 14px; font-style: normal; font-weight: bold; letter-spacing: 2px; color: mediumseagreen; line-height:1.3 text-align:center;background-color:black\">Click on content for view selected part</p>\n",
    "\n",
    "<hr style=\"height: 0.5px; border: 0; background-color: #808080\">\n",
    "\n",
    "<p style=\"font-family: Arials; font-size: 25px; font-style: normal; font-weight: bold; letter-spacing: 2px; color: mediumseagreen; line-height:1.3\"><a href=\"#1\" style=\"color:mediumseagreen\">1 Import Necessary Tools</a></p>\n",
    "\n",
    "<p style=\"font-family: Arials; font-size: 25px; font-style: normal; font-weight: bold; letter-spacing: 2px; color: mediumseagreen; line-height:1.3\"><a href=\"#2\" style=\"color:mediumseagreen\">2 Data Visualization and Analysis</a></p>\n",
    "\n",
    "<p style=\"text-indent: 1vw; font-family: Arials; font-size: 20px; font-style: normal; font-weight: bold; letter-spacing: 2px; color: mediumseagreen; line-height:1.3\">\n",
    "<a href=\"#2.1\" style=\"color:mediumseagreen\">2.1 Load Train and Test File</a></p>\n",
    "\n",
    "<p style=\"text-indent: 1vw; font-family: Arials; font-size: 20px; font-style: normal; font-weight: bold; letter-spacing: 2px; color: mediumseagreen; line-height:1.3\">\n",
    "<a href=\"#2.2\" style=\"color:mediumseagreen\">2.2 Information of Train Data</a></p>\n",
    "\n",
    "<p style=\"text-indent: 1vw; font-family: Arials; font-size: 20px; font-style: normal; font-weight: bold; letter-spacing: 2px; color: mediumseagreen; line-height:1.3\"><a href=\"#2.3\" style=\"color:mediumseagreen\">2.3 Detect Outliers</a></p>\n",
    "\n",
    "\n",
    "\n",
    "<p style=\"text-indent: 1vw; font-family: Arials; font-size: 14px; font-style: normal; font-weight: bold; letter-spacing: 2px; color: mediumseagreen; line-height:1.3 text-align:center\"> \n",
    "<a href=\"#2.3.1\" style=\"color:mediumseagreen\">2.3.1 Find z-score </a></p>\n",
    "\n",
    "<p style=\"text-indent: 1vw; font-family: Arials; font-size: 20px; font-style: normal; font-weight: bold; letter-spacing: 2px; color: mediumseagreen; line-height:1.3\"><a href=\"#2.3.2\" style=\"color:mediumseagreen\">2.4 Target Analysis</a></p>\n",
    "\n",
    "<p style=\"text-indent: 1vw; font-family: Arials; font-size: 14px; font-style: normal; font-weight: bold; letter-spacing: 2px; color: mediumseagreen; line-height:1.3 text-align:center\"> \n",
    "<a href=\"#2.3.3\" style=\"color:mediumseagreen\">2.4.1 Apply boxcox transformation </a></p>\n",
    "\n",
    "\n",
    "<p style=\"text-indent: 1vw; font-family: Arials; font-size: 20px; font-style: normal; font-weight: bold; letter-spacing: 2px; color: mediumseagreen; line-height:1.3\"><a href=\"#2.5\" style=\"color:mediumseagreen\">2.5 Correlation</a></p>\n",
    "\n",
    "\n",
    "<p style=\"text-indent: 1vw; font-family: Arials; font-size: 14px; font-style: normal; font-weight: bold; letter-spacing: 2px; color: mediumseagreen; line-height:1.3\">\n",
    "<a href=\"#2.5.1\" style=\"color:mediumseagreen\">2.5.1 Select Features</a></p>\n",
    "\n",
    "<p style=\"text-indent: 1vw; font-family: Arials; font-size: 20px; font-style: normal; font-weight: bold; letter-spacing: 2px; color: mediumseagreen; line-height:1.3\"><a href=\"#2.6\" style=\"color:mediumseagreen\">2.6 Features Analysis</a></p>\n",
    "\n",
    "\n",
    "<p style=\"text-indent: 1vw; font-family: Arials; font-size: 25px; font-style: normal; font-weight: bold; letter-spacing: 2px; color: mediumseagreen; line-height:1.3\"> \n",
    "<a href=\"#3\" style=\"color:mediumseagreen\">3 Data Clean</a></p>\n",
    "\n",
    "\n",
    "<p style=\"font-family: Arials; font-size: 20px; font-style: normal; font-weight: bold; letter-spacing: 2px; color: mediumseagreen; line-height:1.3\"><a href=\"#3.1\" style=\"color:mediumseagreen\">3.1 Drop Target</a></p>\n",
    "\n",
    "<p style=\"text-indent: 1vw; font-family: Arials; font-size: 20px; font-style: normal; font-weight: bold; letter-spacing: 2px; color: mediumseagreen; line-height:1.3\"> \n",
    "<a href=\"#3.2\" style=\"color:mediumseagreen\">3.2 Count Missing Value</a></p>\n",
    "\n",
    "<p style=\"text-indent: 1vw; font-family: Arials; font-size:20px; font-style: normal; font-weight: bold; letter-spacing: 2px; color: mediumseagreen; line-height:1.3\"><a href=\"#3.3\"style=\"color:mediumseagreen\">3.3 Drop Missing Value More Then 4</a></p>\n",
    "\n",
    "<p style=\"text-indent: 1vw; font-family: Arials; font-size: 20px; font-style: normal; font-weight: bold; letter-spacing: 2px; color: mediumseagreen; line-height:1.3\"> \n",
    "<a href=\"#3.4\" style=\"color:mediumseagreen\">3.4 Apply Label Encoder Method</a></p>\n",
    "\n",
    "<p style=\"text-indent: 1vw; font-family: Arials; font-size: 20px; font-style: normal; font-weight: bold; letter-spacing: 2px; color: mediumseagreen; line-height:1.3\"> \n",
    "<a href=\"#3.5\" style=\"color:mediumseagreen\">3.5 Apply Simple Imputer Method</a></p>\n",
    "\n",
    "\n",
    "<p style=\"text-indent: 1vw; font-family: Arials; font-size: 25px; font-style: normal; font-weight: bold; letter-spacing: 2px; color: mediumseagreen; line-height:1.3\"> \n",
    "<a href=\"#4\" style=\"color:mediumseagreen\">4 Feature Engineering</a></p>\n",
    "\n",
    "\n",
    "<p style=\"font-family: Arials; font-size: 20px; font-style: normal; font-weight: bold; letter-spacing: 2px; color: mediumseagreen; line-height:1.3\"><a href=\"#4.1\" style=\"color:mediumseagreen\">4.1 Fix The Skewness of Features</a></p>\n",
    "\n",
    "<p style=\"font-family: Arials; font-size: 20px; font-style: normal; font-weight: bold; letter-spacing: 2px; color: mediumseagreen; line-height:1.3\"><a href=\"#4.2\" style=\"color:mediumseagreen\">4.2 Separate Train and Test After Clean</a></p>\n",
    "\n",
    "<p style=\"font-family: Arials; font-size: 25px; font-style: normal; font-weight: bold; letter-spacing: 2px; color: mediumseagreen; line-height:1.3\"><a href=\"#5\" style=\"color:mediumseagreen\">5 Apply Machine Learning Model</a></p>\n",
    "\n",
    "\n",
    "<p style=\"font-family: Arials; font-size: 20px; font-style: normal; font-weight: bold; letter-spacing: 2px; color: mediumseagreen; line-height:1.3\"><a href=\"#5.1\" style=\"color:mediumseagreen\">5.1 Apply XGBOOST Algorithm</a></p>\n",
    "\n",
    "<p style=\"font-family: Arials; font-size: 20px; font-style: normal; font-weight: bold; letter-spacing: 2px; color: mediumseagreen; line-height:1.3\"><a href=\"#5.2\" style=\"color:mediumseagreen\">5.2 Predict Test</a></p>\n",
    "\n",
    "<p style=\"font-family: Arials; font-size: 20px; font-style: normal; font-weight: bold; letter-spacing: 2px; color: mediumseagreen; line-height:1.3\"><a href=\"#5.3\" style=\"color:mediumseagreen\">5.3 Submit Result at Kaggle Competition</a></p>\n"
   ]
  },
  {
   "cell_type": "markdown",
   "id": "underlying-binary",
   "metadata": {
    "papermill": {
     "duration": 0.040767,
     "end_time": "2022-10-11T12:13:20.766481",
     "exception": false,
     "start_time": "2022-10-11T12:13:20.725714",
     "status": "completed"
    },
    "tags": []
   },
   "source": [
    "<p id=\"1\"></p>\n",
    "<p style=\"font-family: Arials; font-size: 40px; font-style: normal; font-weight: bold; letter-spacing: 2px; color: mediumseagreen; line-height:1.3;text-align:center\"><a href=\"#1\" style=\"color:violet\">1. Import Necessary Tools</a></p>\n",
    "\n",
    "<p style=\"font-family: Arials; font-size: 14px; font-style: normal; font-weight: bold; letter-spacing: 2px; line-height:1.3;text-align:center\">Here i import all neccessary python library</p>\n",
    "\n",
    "<a href=\"#10\" style=\"color:tomato;background-color:black\">Back to content click here</a>\n",
    "\n",
    "\n",
    "<hr style=\"height: 0.5px; border: 0; background-color: #808080\">"
   ]
  },
  {
   "cell_type": "markdown",
   "id": "missing-apparel",
   "metadata": {
    "papermill": {
     "duration": 0.039636,
     "end_time": "2022-10-11T12:13:20.845768",
     "exception": false,
     "start_time": "2022-10-11T12:13:20.806132",
     "status": "completed"
    },
    "tags": []
   },
   "source": [
    "<p style=\"font-family: Arials; font-size: 18px; font-style: normal; font-weight: bold; letter-spacing: 2px; line-height:1.3\">The following libraries are used here:</p>\n",
    "\n",
    "<p style=\"font-family: Arials; font-size: 14px; font-style: normal; font-weight: bold; letter-spacing: 2px; line-height:1.3\"><bold>pandas:</bold> The Python Data Analysis Library is used for storing the data in dataframes and manipulation.</p>\n",
    "\n",
    "\n",
    "<p style=\"font-family: Arials; font-size: 14px; font-style: normal; font-weight: bold; letter-spacing: 2px; line-height:1.3\">numpy: Python scientific computing library.</p>\n",
    "\n",
    "<p style=\"font-family: Arials; font-size: 14px; font-style: normal; font-weight: bold; letter-spacing: 2px; line-height:1.3\"><a href=\"#\"></a><strong>matplotlib:</strong> Python plotting library.</p>\n",
    "\n",
    "<p style=\"font-family: Arials; font-size: 14px; font-style: normal; font-weight: bold; letter-spacing: 2px; line-height:1.3\"><a href=\"#\"></a>seaborn: Statistical data visualization based on matplotlib.</p>\n",
    "\n",
    "<p style=\"font-family: Arials; font-size: 14px; font-style: normal; font-weight: bold; letter-spacing: 2px; line-height:1.3;\">scikit-learn: Sklearn is a machine learning library for Python.</p>\n",
    "\n",
    "<p style=\"font-family: Arials; font-size: 14px; font-style: normal; font-weight: bold; letter-spacing: 2px; line-height:1.3\">scipy.stats: Provides a number of probability distributions and statistical functions.</p>\n",
    "\n"
   ]
  },
  {
   "cell_type": "code",
   "execution_count": 1,
   "id": "balanced-channels",
   "metadata": {
    "execution": {
     "iopub.execute_input": "2022-10-11T12:13:20.936793Z",
     "iopub.status.busy": "2022-10-11T12:13:20.935847Z",
     "iopub.status.idle": "2022-10-11T12:13:22.485046Z",
     "shell.execute_reply": "2022-10-11T12:13:22.484091Z",
     "shell.execute_reply.started": "2021-10-12T16:19:33.585617Z"
    },
    "papermill": {
     "duration": 1.599429,
     "end_time": "2022-10-11T12:13:22.485265",
     "exception": false,
     "start_time": "2022-10-11T12:13:20.885836",
     "status": "completed"
    },
    "tags": []
   },
   "outputs": [],
   "source": [
    "import numpy as np \n",
    "import pandas as pd\n",
    "import seaborn as sns\n",
    "import matplotlib.pyplot as plt\n",
    "from sklearn.ensemble import RandomForestRegressor\n",
    "from sklearn.metrics import mean_absolute_error\n",
    "import xgboost as XGB\n",
    "from sklearn.model_selection import train_test_split\n",
    "from scipy import stats\n",
    "from scipy.stats import norm, skew\n",
    "import warnings\n",
    "warnings.filterwarnings(\"ignore\")"
   ]
  },
  {
   "cell_type": "markdown",
   "id": "every-quick",
   "metadata": {
    "papermill": {
     "duration": 0.039597,
     "end_time": "2022-10-11T12:13:22.565369",
     "exception": false,
     "start_time": "2022-10-11T12:13:22.525772",
     "status": "completed"
    },
    "tags": []
   },
   "source": [
    "<p id=\"2\"></p>\n",
    "<p style=\"font-family: Arials; font-size: 40px; font-style: normal; font-weight: bold; letter-spacing: 2px; color: mediumseagreen; line-height:1.3;text-align:center\"><a href=\"#\" style=\"color:violet\">2. Data Visualization and Analysis</a></p>\n",
    "\n",
    "<p style=\"font-family: Arials; font-size: 14px; font-style: normal; font-weight: bold; letter-spacing: 2px; line-height:1.3;text-align:center\">Data visualization is the graphical representation of information and data.</p>\n",
    "<a href=\"#10\" style=\"color:tomato;background-color:black\">Back to content click here</a>\n",
    "\n",
    "<hr style=\"height: 0.5px; border: 0; background-color: #808080\">"
   ]
  },
  {
   "cell_type": "markdown",
   "id": "selected-startup",
   "metadata": {
    "papermill": {
     "duration": 0.042322,
     "end_time": "2022-10-11T12:13:22.652888",
     "exception": false,
     "start_time": "2022-10-11T12:13:22.610566",
     "status": "completed"
    },
    "tags": []
   },
   "source": [
    "<p id=\"2.1\"></p>\n",
    "<p style=\"text-indent: 1vw; font-family: Arials; font-size: 25px; font-style: normal; font-weight: bold; letter-spacing: 2px; color: mediumseagreen; line-height:1.3;text-align:center\">\n",
    "<a href=\"#2.1\" style=\"color:mediumseagreen\">2.1 Load Train and Test File </a></p>\n",
    "<a href=\"#10\" style=\"color:tomato;background-color:black\">Back to content click here</a>\n"
   ]
  },
  {
   "cell_type": "code",
   "execution_count": 2,
   "id": "blank-broadcast",
   "metadata": {
    "_kg_hide-output": true,
    "execution": {
     "iopub.execute_input": "2022-10-11T12:13:22.739797Z",
     "iopub.status.busy": "2022-10-11T12:13:22.738719Z",
     "iopub.status.idle": "2022-10-11T12:13:22.856285Z",
     "shell.execute_reply": "2022-10-11T12:13:22.856853Z",
     "shell.execute_reply.started": "2021-10-12T16:19:34.943647Z"
    },
    "papermill": {
     "duration": 0.164341,
     "end_time": "2022-10-11T12:13:22.857065",
     "exception": false,
     "start_time": "2022-10-11T12:13:22.692724",
     "status": "completed"
    },
    "tags": []
   },
   "outputs": [
    {
     "data": {
      "text/html": [
       "<div>\n",
       "<style scoped>\n",
       "    .dataframe tbody tr th:only-of-type {\n",
       "        vertical-align: middle;\n",
       "    }\n",
       "\n",
       "    .dataframe tbody tr th {\n",
       "        vertical-align: top;\n",
       "    }\n",
       "\n",
       "    .dataframe thead th {\n",
       "        text-align: right;\n",
       "    }\n",
       "</style>\n",
       "<table border=\"1\" class=\"dataframe\">\n",
       "  <thead>\n",
       "    <tr style=\"text-align: right;\">\n",
       "      <th></th>\n",
       "      <th>Id</th>\n",
       "      <th>MSSubClass</th>\n",
       "      <th>MSZoning</th>\n",
       "      <th>LotFrontage</th>\n",
       "      <th>LotArea</th>\n",
       "      <th>Street</th>\n",
       "      <th>Alley</th>\n",
       "      <th>LotShape</th>\n",
       "      <th>LandContour</th>\n",
       "      <th>Utilities</th>\n",
       "      <th>...</th>\n",
       "      <th>PoolArea</th>\n",
       "      <th>PoolQC</th>\n",
       "      <th>Fence</th>\n",
       "      <th>MiscFeature</th>\n",
       "      <th>MiscVal</th>\n",
       "      <th>MoSold</th>\n",
       "      <th>YrSold</th>\n",
       "      <th>SaleType</th>\n",
       "      <th>SaleCondition</th>\n",
       "      <th>SalePrice</th>\n",
       "    </tr>\n",
       "  </thead>\n",
       "  <tbody>\n",
       "    <tr>\n",
       "      <th>0</th>\n",
       "      <td>1</td>\n",
       "      <td>60</td>\n",
       "      <td>RL</td>\n",
       "      <td>65.0</td>\n",
       "      <td>8450</td>\n",
       "      <td>Pave</td>\n",
       "      <td>NaN</td>\n",
       "      <td>Reg</td>\n",
       "      <td>Lvl</td>\n",
       "      <td>AllPub</td>\n",
       "      <td>...</td>\n",
       "      <td>0</td>\n",
       "      <td>NaN</td>\n",
       "      <td>NaN</td>\n",
       "      <td>NaN</td>\n",
       "      <td>0</td>\n",
       "      <td>2</td>\n",
       "      <td>2008</td>\n",
       "      <td>WD</td>\n",
       "      <td>Normal</td>\n",
       "      <td>208500</td>\n",
       "    </tr>\n",
       "    <tr>\n",
       "      <th>1</th>\n",
       "      <td>2</td>\n",
       "      <td>20</td>\n",
       "      <td>RL</td>\n",
       "      <td>80.0</td>\n",
       "      <td>9600</td>\n",
       "      <td>Pave</td>\n",
       "      <td>NaN</td>\n",
       "      <td>Reg</td>\n",
       "      <td>Lvl</td>\n",
       "      <td>AllPub</td>\n",
       "      <td>...</td>\n",
       "      <td>0</td>\n",
       "      <td>NaN</td>\n",
       "      <td>NaN</td>\n",
       "      <td>NaN</td>\n",
       "      <td>0</td>\n",
       "      <td>5</td>\n",
       "      <td>2007</td>\n",
       "      <td>WD</td>\n",
       "      <td>Normal</td>\n",
       "      <td>181500</td>\n",
       "    </tr>\n",
       "    <tr>\n",
       "      <th>2</th>\n",
       "      <td>3</td>\n",
       "      <td>60</td>\n",
       "      <td>RL</td>\n",
       "      <td>68.0</td>\n",
       "      <td>11250</td>\n",
       "      <td>Pave</td>\n",
       "      <td>NaN</td>\n",
       "      <td>IR1</td>\n",
       "      <td>Lvl</td>\n",
       "      <td>AllPub</td>\n",
       "      <td>...</td>\n",
       "      <td>0</td>\n",
       "      <td>NaN</td>\n",
       "      <td>NaN</td>\n",
       "      <td>NaN</td>\n",
       "      <td>0</td>\n",
       "      <td>9</td>\n",
       "      <td>2008</td>\n",
       "      <td>WD</td>\n",
       "      <td>Normal</td>\n",
       "      <td>223500</td>\n",
       "    </tr>\n",
       "    <tr>\n",
       "      <th>3</th>\n",
       "      <td>4</td>\n",
       "      <td>70</td>\n",
       "      <td>RL</td>\n",
       "      <td>60.0</td>\n",
       "      <td>9550</td>\n",
       "      <td>Pave</td>\n",
       "      <td>NaN</td>\n",
       "      <td>IR1</td>\n",
       "      <td>Lvl</td>\n",
       "      <td>AllPub</td>\n",
       "      <td>...</td>\n",
       "      <td>0</td>\n",
       "      <td>NaN</td>\n",
       "      <td>NaN</td>\n",
       "      <td>NaN</td>\n",
       "      <td>0</td>\n",
       "      <td>2</td>\n",
       "      <td>2006</td>\n",
       "      <td>WD</td>\n",
       "      <td>Abnorml</td>\n",
       "      <td>140000</td>\n",
       "    </tr>\n",
       "    <tr>\n",
       "      <th>4</th>\n",
       "      <td>5</td>\n",
       "      <td>60</td>\n",
       "      <td>RL</td>\n",
       "      <td>84.0</td>\n",
       "      <td>14260</td>\n",
       "      <td>Pave</td>\n",
       "      <td>NaN</td>\n",
       "      <td>IR1</td>\n",
       "      <td>Lvl</td>\n",
       "      <td>AllPub</td>\n",
       "      <td>...</td>\n",
       "      <td>0</td>\n",
       "      <td>NaN</td>\n",
       "      <td>NaN</td>\n",
       "      <td>NaN</td>\n",
       "      <td>0</td>\n",
       "      <td>12</td>\n",
       "      <td>2008</td>\n",
       "      <td>WD</td>\n",
       "      <td>Normal</td>\n",
       "      <td>250000</td>\n",
       "    </tr>\n",
       "  </tbody>\n",
       "</table>\n",
       "<p>5 rows × 81 columns</p>\n",
       "</div>"
      ],
      "text/plain": [
       "   Id  MSSubClass MSZoning  LotFrontage  LotArea Street Alley LotShape  \\\n",
       "0   1          60       RL         65.0     8450   Pave   NaN      Reg   \n",
       "1   2          20       RL         80.0     9600   Pave   NaN      Reg   \n",
       "2   3          60       RL         68.0    11250   Pave   NaN      IR1   \n",
       "3   4          70       RL         60.0     9550   Pave   NaN      IR1   \n",
       "4   5          60       RL         84.0    14260   Pave   NaN      IR1   \n",
       "\n",
       "  LandContour Utilities  ... PoolArea PoolQC Fence MiscFeature MiscVal MoSold  \\\n",
       "0         Lvl    AllPub  ...        0    NaN   NaN         NaN       0      2   \n",
       "1         Lvl    AllPub  ...        0    NaN   NaN         NaN       0      5   \n",
       "2         Lvl    AllPub  ...        0    NaN   NaN         NaN       0      9   \n",
       "3         Lvl    AllPub  ...        0    NaN   NaN         NaN       0      2   \n",
       "4         Lvl    AllPub  ...        0    NaN   NaN         NaN       0     12   \n",
       "\n",
       "  YrSold  SaleType  SaleCondition  SalePrice  \n",
       "0   2008        WD         Normal     208500  \n",
       "1   2007        WD         Normal     181500  \n",
       "2   2008        WD         Normal     223500  \n",
       "3   2006        WD        Abnorml     140000  \n",
       "4   2008        WD         Normal     250000  \n",
       "\n",
       "[5 rows x 81 columns]"
      ]
     },
     "execution_count": 2,
     "metadata": {},
     "output_type": "execute_result"
    }
   ],
   "source": [
    "X = pd.read_csv('../input/house-prices-advanced-regression-techniques/train.csv') \n",
    "test = pd.read_csv('../input/house-prices-advanced-regression-techniques/test.csv')\n",
    "y=X.SalePrice\n",
    "X.head() "
   ]
  },
  {
   "cell_type": "markdown",
   "id": "divine-hamburg",
   "metadata": {
    "papermill": {
     "duration": 0.042536,
     "end_time": "2022-10-11T12:13:22.942210",
     "exception": false,
     "start_time": "2022-10-11T12:13:22.899674",
     "status": "completed"
    },
    "tags": []
   },
   "source": [
    "<p id=\"2.2\"></p>\n",
    "<p style=\"text-indent: 1vw; font-family: Arials; font-size: 25px; font-style: normal; font-weight: bold; letter-spacing: 2px; color: mediumseagreen; line-height:1.3;text-align:center\">\n",
    "<a href=\"#2.3\" style=\"color:mediumseagreen\">2.2 Information of Train Data </a></p>\n"
   ]
  },
  {
   "cell_type": "code",
   "execution_count": 3,
   "id": "rotary-walnut",
   "metadata": {
    "_kg_hide-input": false,
    "_kg_hide-output": true,
    "execution": {
     "iopub.execute_input": "2022-10-11T12:13:23.030943Z",
     "iopub.status.busy": "2022-10-11T12:13:23.029943Z",
     "iopub.status.idle": "2022-10-11T12:13:23.064023Z",
     "shell.execute_reply": "2022-10-11T12:13:23.064907Z",
     "shell.execute_reply.started": "2021-10-12T16:19:35.075773Z"
    },
    "papermill": {
     "duration": 0.081073,
     "end_time": "2022-10-11T12:13:23.065193",
     "exception": false,
     "start_time": "2022-10-11T12:13:22.984120",
     "status": "completed"
    },
    "tags": []
   },
   "outputs": [
    {
     "name": "stdout",
     "output_type": "stream",
     "text": [
      "<class 'pandas.core.frame.DataFrame'>\n",
      "RangeIndex: 1460 entries, 0 to 1459\n",
      "Data columns (total 81 columns):\n",
      " #   Column         Non-Null Count  Dtype  \n",
      "---  ------         --------------  -----  \n",
      " 0   Id             1460 non-null   int64  \n",
      " 1   MSSubClass     1460 non-null   int64  \n",
      " 2   MSZoning       1460 non-null   object \n",
      " 3   LotFrontage    1201 non-null   float64\n",
      " 4   LotArea        1460 non-null   int64  \n",
      " 5   Street         1460 non-null   object \n",
      " 6   Alley          91 non-null     object \n",
      " 7   LotShape       1460 non-null   object \n",
      " 8   LandContour    1460 non-null   object \n",
      " 9   Utilities      1460 non-null   object \n",
      " 10  LotConfig      1460 non-null   object \n",
      " 11  LandSlope      1460 non-null   object \n",
      " 12  Neighborhood   1460 non-null   object \n",
      " 13  Condition1     1460 non-null   object \n",
      " 14  Condition2     1460 non-null   object \n",
      " 15  BldgType       1460 non-null   object \n",
      " 16  HouseStyle     1460 non-null   object \n",
      " 17  OverallQual    1460 non-null   int64  \n",
      " 18  OverallCond    1460 non-null   int64  \n",
      " 19  YearBuilt      1460 non-null   int64  \n",
      " 20  YearRemodAdd   1460 non-null   int64  \n",
      " 21  RoofStyle      1460 non-null   object \n",
      " 22  RoofMatl       1460 non-null   object \n",
      " 23  Exterior1st    1460 non-null   object \n",
      " 24  Exterior2nd    1460 non-null   object \n",
      " 25  MasVnrType     1452 non-null   object \n",
      " 26  MasVnrArea     1452 non-null   float64\n",
      " 27  ExterQual      1460 non-null   object \n",
      " 28  ExterCond      1460 non-null   object \n",
      " 29  Foundation     1460 non-null   object \n",
      " 30  BsmtQual       1423 non-null   object \n",
      " 31  BsmtCond       1423 non-null   object \n",
      " 32  BsmtExposure   1422 non-null   object \n",
      " 33  BsmtFinType1   1423 non-null   object \n",
      " 34  BsmtFinSF1     1460 non-null   int64  \n",
      " 35  BsmtFinType2   1422 non-null   object \n",
      " 36  BsmtFinSF2     1460 non-null   int64  \n",
      " 37  BsmtUnfSF      1460 non-null   int64  \n",
      " 38  TotalBsmtSF    1460 non-null   int64  \n",
      " 39  Heating        1460 non-null   object \n",
      " 40  HeatingQC      1460 non-null   object \n",
      " 41  CentralAir     1460 non-null   object \n",
      " 42  Electrical     1459 non-null   object \n",
      " 43  1stFlrSF       1460 non-null   int64  \n",
      " 44  2ndFlrSF       1460 non-null   int64  \n",
      " 45  LowQualFinSF   1460 non-null   int64  \n",
      " 46  GrLivArea      1460 non-null   int64  \n",
      " 47  BsmtFullBath   1460 non-null   int64  \n",
      " 48  BsmtHalfBath   1460 non-null   int64  \n",
      " 49  FullBath       1460 non-null   int64  \n",
      " 50  HalfBath       1460 non-null   int64  \n",
      " 51  BedroomAbvGr   1460 non-null   int64  \n",
      " 52  KitchenAbvGr   1460 non-null   int64  \n",
      " 53  KitchenQual    1460 non-null   object \n",
      " 54  TotRmsAbvGrd   1460 non-null   int64  \n",
      " 55  Functional     1460 non-null   object \n",
      " 56  Fireplaces     1460 non-null   int64  \n",
      " 57  FireplaceQu    770 non-null    object \n",
      " 58  GarageType     1379 non-null   object \n",
      " 59  GarageYrBlt    1379 non-null   float64\n",
      " 60  GarageFinish   1379 non-null   object \n",
      " 61  GarageCars     1460 non-null   int64  \n",
      " 62  GarageArea     1460 non-null   int64  \n",
      " 63  GarageQual     1379 non-null   object \n",
      " 64  GarageCond     1379 non-null   object \n",
      " 65  PavedDrive     1460 non-null   object \n",
      " 66  WoodDeckSF     1460 non-null   int64  \n",
      " 67  OpenPorchSF    1460 non-null   int64  \n",
      " 68  EnclosedPorch  1460 non-null   int64  \n",
      " 69  3SsnPorch      1460 non-null   int64  \n",
      " 70  ScreenPorch    1460 non-null   int64  \n",
      " 71  PoolArea       1460 non-null   int64  \n",
      " 72  PoolQC         7 non-null      object \n",
      " 73  Fence          281 non-null    object \n",
      " 74  MiscFeature    54 non-null     object \n",
      " 75  MiscVal        1460 non-null   int64  \n",
      " 76  MoSold         1460 non-null   int64  \n",
      " 77  YrSold         1460 non-null   int64  \n",
      " 78  SaleType       1460 non-null   object \n",
      " 79  SaleCondition  1460 non-null   object \n",
      " 80  SalePrice      1460 non-null   int64  \n",
      "dtypes: float64(3), int64(35), object(43)\n",
      "memory usage: 924.0+ KB\n"
     ]
    }
   ],
   "source": [
    "X.info()"
   ]
  },
  {
   "cell_type": "markdown",
   "id": "arbitrary-hanging",
   "metadata": {
    "papermill": {
     "duration": 0.040908,
     "end_time": "2022-10-11T12:13:23.148948",
     "exception": false,
     "start_time": "2022-10-11T12:13:23.108040",
     "status": "completed"
    },
    "tags": []
   },
   "source": [
    "# Observation :\n",
    "1. Total 1460 entries in our train data \n",
    "\n",
    "2. Total 81 columns\n",
    "\n",
    "3. With float data 3 column, Int data 35 column and Object data 43 column\n",
    "\n",
    "4. There are many null value in our dataset\n",
    "\n",
    "<a href=\"#10\" style=\"color:tomato;background-color:black\">Back to content click here</a>"
   ]
  },
  {
   "cell_type": "markdown",
   "id": "accepted-science",
   "metadata": {
    "papermill": {
     "duration": 0.040904,
     "end_time": "2022-10-11T12:13:23.231594",
     "exception": false,
     "start_time": "2022-10-11T12:13:23.190690",
     "status": "completed"
    },
    "tags": []
   },
   "source": [
    "<p id=\"2.3\"></p>\n",
    "<p style=\"text-indent: 1vw; font-family: Arials; font-size:25px; font-style: normal; font-weight: bold; letter-spacing: 2px; color: mediumseagreen; line-height:1.3;text-align:center\"><a href=\"#2.3\"style=\"color:mediumseagreen\">2.3 Detect Outliers </a></p>\n",
    "\n",
    "<p style=\"text-indent: 1vw; font-family: Arials; font-size:15px; font-style: normal; font-weight: bold; letter-spacing: 2px; line-height:1.3;text-align:center\">There are many way to detect outlier but here i use z-score for detect outliers.</p>\n",
    "\n",
    "\n"
   ]
  },
  {
   "cell_type": "markdown",
   "id": "extensive-footage",
   "metadata": {
    "papermill": {
     "duration": 0.040949,
     "end_time": "2022-10-11T12:13:23.313529",
     "exception": false,
     "start_time": "2022-10-11T12:13:23.272580",
     "status": "completed"
    },
    "tags": []
   },
   "source": [
    "\n",
    "<p id=\"2.3.1\"></p>\n",
    "<p style=\"text-indent: 1vw; font-family: Arials; font-size:25px; font-style: normal; font-weight: bold; letter-spacing: 2px; color: mediumseagreen; line-height:1.3;text-align:center\"><a href=\"#2.3.1\"style=\"color:mediumseagreen\">2.3.1 Find z-score </a></p>\n",
    "\n",
    "\n",
    "<p style=\"text-indent: 1vw; font-family: Arials; font-size:15px; font-style: normal; font-weight: bold; letter-spacing: 2px; line-height:1.3;text-align:center\">Defination of z-score from wiki : The Z-score is the signed number of standard deviations by which the value of an observation or data point is above the mean value of what is being observed or measured..</p>\n",
    "\n",
    "\n",
    "\n"
   ]
  },
  {
   "cell_type": "code",
   "execution_count": 4,
   "id": "english-grounds",
   "metadata": {
    "_kg_hide-input": false,
    "_kg_hide-output": true,
    "execution": {
     "iopub.execute_input": "2022-10-11T12:13:23.406119Z",
     "iopub.status.busy": "2022-10-11T12:13:23.405433Z",
     "iopub.status.idle": "2022-10-11T12:13:23.416897Z",
     "shell.execute_reply": "2022-10-11T12:13:23.416052Z",
     "shell.execute_reply.started": "2021-10-12T16:22:36.850823Z"
    },
    "papermill": {
     "duration": 0.061176,
     "end_time": "2022-10-11T12:13:23.417103",
     "exception": false,
     "start_time": "2022-10-11T12:13:23.355927",
     "status": "completed"
    },
    "tags": []
   },
   "outputs": [
    {
     "name": "stdout",
     "output_type": "stream",
     "text": [
      "(array([   1,    3,    5,    7,    8,    9,    9,   17,   24,   26,   28,\n",
      "         33,   37,   39,   41,   46,   48,   48,   50,   51,   52,   53,\n",
      "         53,   53,   53,   55,   58,   64,   70,   72,   74,   78,   80,\n",
      "         88,   88,   93,   93,   93,  102,  104,  113,  116,  116,  118,\n",
      "        120,  125,  125,  129,  129,  137,  137,  144,  144,  153,  154,\n",
      "        159,  165,  165,  166,  166,  166,  169,  170,  176,  176,  178,\n",
      "        178,  178,  182,  185,  185,  185,  185,  185,  185,  185,  187,\n",
      "        188,  188,  188,  189,  189,  191,  196,  197,  197,  197,  197,\n",
      "        197,  198,  201,  205,  213,  215,  218,  218,  224,  224,  224,\n",
      "        233,  237,  241,  245,  246,  246,  249,  249,  250,  251,  253,\n",
      "        253,  258,  260,  260,  263,  263,  267,  271,  273,  278,  280,\n",
      "        289,  291,  291,  293,  297,  298,  298,  299,  300,  304,  304,\n",
      "        304,  304,  306,  309,  312,  312,  313,  313,  313,  314,  314,\n",
      "        322,  325,  326,  328,  330,  330,  330,  332,  335,  335,  335,\n",
      "        335,  339,  342,  343,  346,  349,  351,  352,  355,  357,  358,\n",
      "        358,  359,  360,  365,  366,  367,  375,  375,  378,  380,  384,\n",
      "        389,  398,  400,  406,  411,  414,  414,  420,  420,  421,  426,\n",
      "        426,  440,  440,  440,  440,  441,  446,  451,  454,  454,  457,\n",
      "        459,  461,  462,  470,  471,  473,  475,  477,  480,  488,  488,\n",
      "        493,  495,  496,  496,  496,  496,  496,  496,  499,  499,  504,\n",
      "        505,  508,  510,  519,  520,  520,  520,  523,  523,  523,  523,\n",
      "        523,  527,  529,  529,  533,  535,  539,  542,  546,  548,  550,\n",
      "        558,  570,  570,  574,  576,  577,  577,  580,  581,  581,  583,\n",
      "        583,  586,  588,  589,  591,  591,  597,  597,  599,  605,  605,\n",
      "        608,  611,  618,  624,  625,  628,  628,  630,  630,  633,  634,\n",
      "        634,  634,  635,  635,  635,  635,  635,  635,  637,  637,  642,\n",
      "        645,  647,  648,  653,  658,  660,  661,  661,  662,  664,  664,\n",
      "        664,  666,  666,  673,  676,  676,  678,  691,  691,  691,  691,\n",
      "        691,  691,  697,  697,  703,  703,  703,  704,  705,  705,  705,\n",
      "        706,  713,  713,  717,  718,  720,  726,  726,  728,  729,  735,\n",
      "        736,  738,  741,  743,  744,  745,  745,  747,  747,  764,  764,\n",
      "        769,  769,  769,  769,  769,  769,  774,  775,  778,  784,  785,\n",
      "        785,  795,  798,  798,  798,  799,  803,  803,  803,  807,  807,\n",
      "        809,  810,  813,  814,  825,  828,  828,  828,  828,  830,  836,\n",
      "        840,  842,  843,  843,  848,  848,  854,  854,  854,  859,  861,\n",
      "        873,  875,  883,  886,  887,  888,  888,  889,  890,  892,  893,\n",
      "        894,  897,  897,  897,  898,  898,  898,  907,  910,  910,  913,\n",
      "        918,  918,  919,  920,  921,  921,  921,  923,  924,  925,  931,\n",
      "        932,  939,  940,  941,  942,  942,  943,  944,  944,  945,  947,\n",
      "        952,  953,  954,  954,  955,  961,  961,  969,  974,  980,  984,\n",
      "        985,  991,  996, 1003, 1006, 1009, 1011, 1013, 1024, 1029, 1030,\n",
      "       1030, 1030, 1031, 1031, 1037, 1040, 1041, 1044, 1044, 1044, 1046,\n",
      "       1047, 1052, 1055, 1055, 1059, 1061, 1062, 1062, 1067, 1068, 1069,\n",
      "       1070, 1072, 1076, 1077, 1080, 1080, 1081, 1090, 1103, 1118, 1119,\n",
      "       1123, 1123, 1132, 1137, 1139, 1142, 1144, 1149, 1149, 1150, 1152,\n",
      "       1152, 1154, 1154, 1156, 1156, 1161, 1163, 1163, 1163, 1163, 1169,\n",
      "       1169, 1169, 1170, 1171, 1173, 1173, 1181, 1181, 1182, 1182, 1182,\n",
      "       1182, 1182, 1182, 1182, 1184, 1184, 1185, 1186, 1186, 1190, 1190,\n",
      "       1193, 1197, 1202, 1210, 1213, 1213, 1213, 1216, 1220, 1225, 1228,\n",
      "       1230, 1230, 1230, 1230, 1232, 1243, 1248, 1253, 1266, 1266, 1266,\n",
      "       1267, 1268, 1268, 1270, 1270, 1275, 1276, 1282, 1283, 1283, 1287,\n",
      "       1292, 1292, 1293, 1298, 1298, 1298, 1298, 1298, 1298, 1298, 1298,\n",
      "       1298, 1298, 1298, 1299, 1301, 1308, 1312, 1313, 1320, 1320, 1326,\n",
      "       1327, 1327, 1328, 1328, 1335, 1336, 1346, 1349, 1349, 1350, 1350,\n",
      "       1350, 1350, 1350, 1352, 1353, 1360, 1369, 1369, 1373, 1373, 1373,\n",
      "       1382, 1386, 1386, 1386, 1386, 1387, 1389, 1391, 1393, 1393, 1393,\n",
      "       1396, 1405, 1412, 1414, 1415, 1416, 1416, 1418, 1419, 1423, 1423,\n",
      "       1435, 1437, 1439, 1440, 1445, 1445, 1450, 1450, 1457, 1457, 1458,\n",
      "       1459]), array([18, 30, 31, 30, 22,  1, 22, 22, 10, 18, 29, 18, 18, 22, 18, 32,  1,\n",
      "       22, 18, 15, 10,  3, 17, 21, 28, 31, 37, 28,  9, 32, 22, 22, 32,  5,\n",
      "       15,  1, 18, 22, 22, 32, 10, 10, 18, 16, 31,  1, 15, 18, 31, 11, 22,\n",
      "       21, 22, 10, 30, 31,  1, 22, 10, 24, 28, 28, 15, 18, 32,  9, 27, 37,\n",
      "       31,  5, 15, 16, 23, 29, 32, 37, 31, 17, 20, 22, 21, 32,  5, 32, 15,\n",
      "       16, 18, 30, 33, 15, 18, 31, 18, 18,  5, 18, 11, 12, 13, 10, 31,  5,\n",
      "       18,  1, 22,  3, 18,  5, 18, 10, 18, 31, 10, 30, 10, 15, 15, 10, 10,\n",
      "       11, 31, 32,  1, 21, 29, 32, 18, 20, 18,  1,  5,  6, 14, 16, 30, 24,\n",
      "        1, 32,  3, 10, 17, 18, 30, 10, 30, 17, 30, 18, 21, 22, 12,  1,  3,\n",
      "       17, 28, 32, 22, 28, 34, 37, 32, 18, 10, 28, 18, 30, 32, 32, 30, 32,\n",
      "       18,  4,  5,  5, 30,  3, 37,  5, 32, 15,  1, 10, 18, 17, 22, 18, 18,\n",
      "       32, 10, 12, 13, 37, 22, 10,  3, 17, 22,  3, 30,  5, 30, 10, 32, 37,\n",
      "       32, 11, 28,  1, 22, 10, 29, 11, 12, 13, 16, 30, 37, 18, 29, 18, 22,\n",
      "        5, 34,  5,  1, 22, 30,  9, 12, 13, 16, 29, 37, 13, 22,  4,  1, 34,\n",
      "       10, 31, 10, 32, 18, 21, 22, 18, 18, 10, 30, 18, 11, 27,  5, 29, 10,\n",
      "       17, 15, 29, 37, 18, 20, 10, 24, 32, 16, 18, 32, 20, 32, 18, 20,  6,\n",
      "       30, 18, 17, 21, 22,  1, 15, 16, 21, 22, 23,  1, 22, 24, 29, 32, 30,\n",
      "       30, 18, 30,  3, 28, 30, 27, 29, 37, 10, 29, 32,  5, 22, 11, 12, 13,\n",
      "       14, 16, 18, 37, 10, 18,  1,  5, 22, 31,  1, 22, 34,  3,  1, 29, 18,\n",
      "       30, 30,  5, 31, 22, 15, 29, 22, 17, 18, 18, 31,  5, 18,  6, 30, 10,\n",
      "       32,  3, 16, 23, 28, 32, 37, 11, 29, 22, 29, 10, 32, 32, 11, 16, 37,\n",
      "       30, 23, 32, 37, 17, 29, 22, 33, 30, 18, 27, 10, 18, 28, 32, 32, 30,\n",
      "       30, 10, 21, 22,  3, 28, 10, 29, 32, 32,  1, 15, 29, 15, 22, 32, 10,\n",
      "       32, 31, 34, 18, 28, 22, 21, 22, 23,  9, 13, 37, 32, 22, 23, 22, 10,\n",
      "       30, 32, 18, 17, 20, 22, 10, 10, 18, 18, 11, 30, 22, 31, 17, 22, 22,\n",
      "       18, 32, 30, 29, 18, 18, 18, 22, 22, 28, 29,  1, 28,  5, 22,  1,  5,\n",
      "       29, 22, 18, 15, 22, 30, 13, 18,  1, 22, 30, 15, 23, 32, 10, 18, 12,\n",
      "       13, 28, 37, 18, 18, 18, 32, 10, 27,  1, 22, 32, 28, 18, 32, 18, 18,\n",
      "       10, 18, 31, 30, 22, 18, 18, 30,  5, 18,  6,  6, 30, 37,  1,  5, 18,\n",
      "       30, 10, 30, 20, 32, 18, 31, 31, 17, 20, 21, 22, 14, 16, 37, 33, 32,\n",
      "       15, 23, 18, 31,  9, 12, 13, 14, 16, 33, 37, 29, 32, 30,  1, 22,  1,\n",
      "       27, 29, 30, 30, 28,  5, 18, 21, 22, 10, 18, 32, 20, 22, 23, 34, 22,\n",
      "       37, 30, 10,  1, 22, 30, 11,  5, 16, 17, 21, 22, 18, 32, 20, 22, 18,\n",
      "       22, 29, 32,  3,  9, 12, 13, 16, 17, 23, 24, 27, 29, 33, 10, 32, 10,\n",
      "       28, 28, 10, 32, 30,  5, 18, 29, 32, 18, 22, 31,  6, 15, 18, 20, 21,\n",
      "       22, 23,  5, 16, 30, 10, 29, 12, 13, 37, 30, 23, 32, 33, 34, 10, 18,\n",
      "       22,  1, 22, 30,  3, 18, 22, 32, 18,  1, 22, 10, 30, 28, 33,  5, 31,\n",
      "       30, 15, 10, 30, 20, 22,  5, 34, 10, 28]))\n",
      "3.948809348331338\n"
     ]
    }
   ],
   "source": [
    "numeric_cols = [col for col in X.columns if X[col].dtype in ['int64','float64']]\n",
    "z = np.abs(stats.zscore(X[numeric_cols]))\n",
    "threshold = 3\n",
    "print(np.where(z > 3))\n",
    "print(z[1][18])"
   ]
  },
  {
   "cell_type": "markdown",
   "id": "amber-relationship",
   "metadata": {
    "papermill": {
     "duration": 0.041591,
     "end_time": "2022-10-11T12:13:23.501670",
     "exception": false,
     "start_time": "2022-10-11T12:13:23.460079",
     "status": "completed"
    },
    "tags": []
   },
   "source": [
    "# Observation : \n",
    "**Here 1st array indicate column and 2nd array indicate row. if we print z[1][17] then output will be 3.94 that's means all value greater then 3.Z>3 consider outliers.**"
   ]
  },
  {
   "cell_type": "markdown",
   "id": "north-cartoon",
   "metadata": {
    "papermill": {
     "duration": 0.041093,
     "end_time": "2022-10-11T12:13:23.583806",
     "exception": false,
     "start_time": "2022-10-11T12:13:23.542713",
     "status": "completed"
    },
    "tags": []
   },
   "source": [
    "<a href=\"#10\" style=\"color:tomato;background-color:black\">Back to content click here</a>"
   ]
  },
  {
   "cell_type": "markdown",
   "id": "challenging-bacteria",
   "metadata": {
    "papermill": {
     "duration": 0.04036,
     "end_time": "2022-10-11T12:13:23.665958",
     "exception": false,
     "start_time": "2022-10-11T12:13:23.625598",
     "status": "completed"
    },
    "tags": []
   },
   "source": [
    "<p style=\"text-indent: 1vw; font-family: Arials; font-size:25px; font-style: normal; font-weight: bold; letter-spacing: 2px; color: mediumseagreen; line-height:1.3;text-align:center\"><a href=\"#2.3.2\"style=\"color:mediumseagreen\">2.4 Target Analysis </a></p>\n",
    "\n",
    "\n",
    "<p style=\"text-indent: 1vw; font-family: Arials; font-size:15px; font-style: normal; font-weight: bold; letter-spacing: 2px; line-height:1.3;text-align:center\">Our Target is SalePrice.This section i will analyze target</p>\n",
    "\n",
    "<p id=\"2.3.2\"></p>\n"
   ]
  },
  {
   "cell_type": "code",
   "execution_count": 5,
   "id": "southern-butler",
   "metadata": {
    "_kg_hide-output": true,
    "execution": {
     "iopub.execute_input": "2022-10-11T12:13:23.755521Z",
     "iopub.status.busy": "2022-10-11T12:13:23.754853Z",
     "iopub.status.idle": "2022-10-11T12:13:24.048271Z",
     "shell.execute_reply": "2022-10-11T12:13:24.047293Z",
     "shell.execute_reply.started": "2021-10-12T16:19:35.133535Z"
    },
    "papermill": {
     "duration": 0.34167,
     "end_time": "2022-10-11T12:13:24.048449",
     "exception": false,
     "start_time": "2022-10-11T12:13:23.706779",
     "status": "completed"
    },
    "tags": []
   },
   "outputs": [
    {
     "data": {
      "text/plain": [
       "<seaborn.axisgrid.FacetGrid at 0x7f722d577b50>"
      ]
     },
     "execution_count": 5,
     "metadata": {},
     "output_type": "execute_result"
    },
    {
     "data": {
      "image/png": "[encoded data removed]",
      "text/plain": [
       "<Figure size 360x360 with 1 Axes>"
      ]
     },
     "metadata": {
      "needs_background": "light"
     },
     "output_type": "display_data"
    }
   ],
   "source": [
    "sns.displot(X, x=y, kind=\"kde\")"
   ]
  },
  {
   "cell_type": "markdown",
   "id": "split-person",
   "metadata": {
    "papermill": {
     "duration": 0.041743,
     "end_time": "2022-10-11T12:13:24.133737",
     "exception": false,
     "start_time": "2022-10-11T12:13:24.091994",
     "status": "completed"
    },
    "tags": []
   },
   "source": [
    "# Observation :\n",
    "\n",
    "**we see that it's positive sekew we must need to fixed it so let's do this using boxcox transformation.**\n",
    "\n",
    "<a href=\"#10\" style=\"color:tomato;background-color:black\">Back to content click here</a>"
   ]
  },
  {
   "cell_type": "markdown",
   "id": "prerequisite-renewal",
   "metadata": {
    "execution": {
     "iopub.execute_input": "2021-06-05T19:08:27.347971Z",
     "iopub.status.busy": "2021-06-05T19:08:27.347685Z",
     "iopub.status.idle": "2021-06-05T19:08:27.35585Z",
     "shell.execute_reply": "2021-06-05T19:08:27.353703Z",
     "shell.execute_reply.started": "2021-06-05T19:08:27.347943Z"
    },
    "papermill": {
     "duration": 0.041772,
     "end_time": "2022-10-11T12:13:24.217844",
     "exception": false,
     "start_time": "2022-10-11T12:13:24.176072",
     "status": "completed"
    },
    "tags": []
   },
   "source": [
    "<p id=\"2.3.3\"></p>\n",
    "<p style=\"text-indent: 1vw; font-family: Arials; font-size:25px; font-style: normal; font-weight: bold; letter-spacing: 2px; color: mediumseagreen; line-height:1.3;text-align:center\"><a href=\"#2.3.3\"style=\"color:mediumseagreen\">2.4.1 Apply boxcox transformation </a></p>\n",
    "\n"
   ]
  },
  {
   "cell_type": "code",
   "execution_count": 6,
   "id": "urban-stack",
   "metadata": {
    "_kg_hide-output": true,
    "execution": {
     "iopub.execute_input": "2022-10-11T12:13:24.305610Z",
     "iopub.status.busy": "2022-10-11T12:13:24.304895Z",
     "iopub.status.idle": "2022-10-11T12:13:24.885769Z",
     "shell.execute_reply": "2022-10-11T12:13:24.886292Z",
     "shell.execute_reply.started": "2021-10-12T16:19:35.419397Z"
    },
    "papermill": {
     "duration": 0.626733,
     "end_time": "2022-10-11T12:13:24.886533",
     "exception": false,
     "start_time": "2022-10-11T12:13:24.259800",
     "status": "completed"
    },
    "tags": []
   },
   "outputs": [
    {
     "data": {
      "text/plain": [
       "Text(0.5, 1.0, 'normalized data')"
      ]
     },
     "execution_count": 6,
     "metadata": {},
     "output_type": "execute_result"
    },
    {
     "data": {
      "image/png": "[encoded data removed]",
      "text/plain": [
       "<Figure size 432x288 with 2 Axes>"
      ]
     },
     "metadata": {
      "needs_background": "light"
     },
     "output_type": "display_data"
    }
   ],
   "source": [
    "normalized_data=stats.boxcox(y)\n",
    "fig,ax = plt.subplots(1,2)\n",
    "sns.distplot(y,ax=ax[0])\n",
    "ax[0].set_title(\"orginal data\")\n",
    "sns.distplot(normalized_data[0] , ax=ax[1])\n",
    "ax[1].set_title(\"normalized data\")"
   ]
  },
  {
   "cell_type": "markdown",
   "id": "personal-period",
   "metadata": {
    "papermill": {
     "duration": 0.044071,
     "end_time": "2022-10-11T12:13:24.976996",
     "exception": false,
     "start_time": "2022-10-11T12:13:24.932925",
     "status": "completed"
    },
    "tags": []
   },
   "source": [
    "# Observation :\n",
    "\n",
    "Ok now we fixed positive sekew.We normalized the target using boxcox transformation.\n",
    "\n",
    "<a href=\"#10\" style=\"color:tomato;background-color:black\">Back to content click here</a>"
   ]
  },
  {
   "cell_type": "markdown",
   "id": "removed-entry",
   "metadata": {
    "papermill": {
     "duration": 0.04495,
     "end_time": "2022-10-11T12:13:25.069071",
     "exception": false,
     "start_time": "2022-10-11T12:13:25.024121",
     "status": "completed"
    },
    "tags": []
   },
   "source": [
    "<p id=\"2.5\"></p>\n",
    "\n",
    "<p style=\"text-indent: 1vw; font-family: Arials; font-size:25px; font-style: normal; font-weight: bold; letter-spacing: 2px; color: mediumseagreen; line-height:1.3;text-align:center\"><a href=\"#2.5\"style=\"color:mediumseagreen\">2.5 Correlation </a></p>\n",
    "\n",
    "<p style=\"text-indent: 1vw; font-family: Arials; font-size:15px; font-style: normal; font-weight: bold; letter-spacing: 2px; line-height:1.3;text-align:center\">Correlation is an indication about the changes between two variables.</p>\n",
    "\n",
    "\n",
    "<p style=\"text-indent: 1vw; font-family: Arials; font-size:15px; font-style: normal; font-weight: bold; letter-spacing: 2px; line-height:1.3;text-align:center\">Measurement of Correlation :</p>\n",
    "\n",
    "<p style=\"text-indent: 1vw; font-family: Arials; font-size:15px; font-style: normal; font-weight: bold; letter-spacing: 2px; line-height:1.3;text-align:center\">1. Perfect Correlation = 1.0000 </p>\n",
    "\n",
    "<p style=\"text-indent: 1vw; font-family: Arials; font-size:15px; font-style: normal; font-weight: bold; letter-spacing: 2px; line-height:1.3;text-align:center\">2. Good Correlation = 0.9123 </p>\n",
    "\n",
    "<p style=\"text-indent: 1vw; font-family: Arials; font-size:15px; font-style: normal; font-weight: bold; letter-spacing: 2px; line-height:1.3;text-align:center\">3. Bad Correlation = 0.0094 </p>\n",
    "\n",
    "\n",
    "\n"
   ]
  },
  {
   "cell_type": "code",
   "execution_count": 7,
   "id": "introductory-warner",
   "metadata": {
    "_kg_hide-output": true,
    "execution": {
     "iopub.execute_input": "2022-10-11T12:13:25.163511Z",
     "iopub.status.busy": "2022-10-11T12:13:25.161250Z",
     "iopub.status.idle": "2022-10-11T12:13:26.043183Z",
     "shell.execute_reply": "2022-10-11T12:13:26.042442Z",
     "shell.execute_reply.started": "2021-10-12T16:19:35.996911Z"
    },
    "papermill": {
     "duration": 0.929421,
     "end_time": "2022-10-11T12:13:26.043356",
     "exception": false,
     "start_time": "2022-10-11T12:13:25.113935",
     "status": "completed"
    },
    "tags": []
   },
   "outputs": [
    {
     "data": {
      "text/plain": [
       "<AxesSubplot:>"
      ]
     },
     "execution_count": 7,
     "metadata": {},
     "output_type": "execute_result"
    },
    {
     "data": {
      "image/png": "[encoded data removed]",
      "text/plain": [
       "<Figure size 648x648 with 2 Axes>"
      ]
     },
     "metadata": {
      "needs_background": "light"
     },
     "output_type": "display_data"
    }
   ],
   "source": [
    "cor=X.corr()\n",
    "high_cor=cor.index[cor[\"SalePrice\"]>.5]\n",
    "plt.figure(figsize=(9,9))\n",
    "sns.heatmap(X[high_cor].corr(),annot=True,cmap='gnuplot2')"
   ]
  },
  {
   "cell_type": "markdown",
   "id": "antique-seller",
   "metadata": {
    "papermill": {
     "duration": 0.046684,
     "end_time": "2022-10-11T12:13:26.138010",
     "exception": false,
     "start_time": "2022-10-11T12:13:26.091326",
     "status": "completed"
    },
    "tags": []
   },
   "source": [
    "# Observation :\n",
    "\n",
    "1. Here we see correlation of all features based on saleprice or target.\n",
    "\n",
    "2. GarageCars and GarageArea both are high correlation with each others (0.88)\n",
    "\n",
    "3. TotRmsAbvGrd and GrLivArea both are high correlation with each others(0.83)\n",
    "\n",
    "4. TotalBsmtSF and 1stFlrSF both are high correlation with each others(0.82)\n",
    "\n",
    "<a href=\"#10\" style=\"color:tomato;background-color:black\">Back to content click here</a>"
   ]
  },
  {
   "cell_type": "markdown",
   "id": "numeric-victory",
   "metadata": {
    "papermill": {
     "duration": 0.046692,
     "end_time": "2022-10-11T12:13:26.231784",
     "exception": false,
     "start_time": "2022-10-11T12:13:26.185092",
     "status": "completed"
    },
    "tags": []
   },
   "source": [
    "<p id=\"2.5.1\"></p>\n",
    "<p style=\"text-indent: 1vw; font-family: Arials; font-size:25px; font-style: normal; font-weight: bold; letter-spacing: 2px; color: mediumseagreen; line-height:1.3;text-align:center\"><a href=\"#2.5.1\"style=\"color:mediumseagreen\">2.5.1 Select Features </a></p>\n",
    "\n",
    "<p style=\"text-indent: 1vw; font-family: Arials; font-size:14px; font-style: normal; font-weight: bold; letter-spacing: 2px; line-height:1.3;text-align:center\">Here i will show how high correlation features and low correlation features impact on saleprice.</p>\n"
   ]
  },
  {
   "cell_type": "code",
   "execution_count": 8,
   "id": "extended-fighter",
   "metadata": {
    "_kg_hide-output": true,
    "execution": {
     "iopub.execute_input": "2022-10-11T12:13:26.335295Z",
     "iopub.status.busy": "2022-10-11T12:13:26.334271Z",
     "iopub.status.idle": "2022-10-11T12:13:26.338113Z",
     "shell.execute_reply": "2022-10-11T12:13:26.338684Z",
     "shell.execute_reply.started": "2021-10-12T16:19:36.900511Z"
    },
    "papermill": {
     "duration": 0.059652,
     "end_time": "2022-10-11T12:13:26.338876",
     "exception": false,
     "start_time": "2022-10-11T12:13:26.279224",
     "status": "completed"
    },
    "tags": []
   },
   "outputs": [
    {
     "data": {
      "text/plain": [
       "SalePrice        1.000000\n",
       "OverallQual      0.790982\n",
       "GrLivArea        0.708624\n",
       "GarageCars       0.640409\n",
       "GarageArea       0.623431\n",
       "TotalBsmtSF      0.613581\n",
       "1stFlrSF         0.605852\n",
       "FullBath         0.560664\n",
       "TotRmsAbvGrd     0.533723\n",
       "YearBuilt        0.522897\n",
       "YearRemodAdd     0.507101\n",
       "GarageYrBlt      0.486362\n",
       "MasVnrArea       0.477493\n",
       "Fireplaces       0.466929\n",
       "BsmtFinSF1       0.386420\n",
       "LotFrontage      0.351799\n",
       "WoodDeckSF       0.324413\n",
       "2ndFlrSF         0.319334\n",
       "OpenPorchSF      0.315856\n",
       "HalfBath         0.284108\n",
       "LotArea          0.263843\n",
       "BsmtFullBath     0.227122\n",
       "BsmtUnfSF        0.214479\n",
       "BedroomAbvGr     0.168213\n",
       "ScreenPorch      0.111447\n",
       "PoolArea         0.092404\n",
       "MoSold           0.046432\n",
       "3SsnPorch        0.044584\n",
       "BsmtFinSF2      -0.011378\n",
       "BsmtHalfBath    -0.016844\n",
       "MiscVal         -0.021190\n",
       "Id              -0.021917\n",
       "LowQualFinSF    -0.025606\n",
       "YrSold          -0.028923\n",
       "OverallCond     -0.077856\n",
       "MSSubClass      -0.084284\n",
       "EnclosedPorch   -0.128578\n",
       "KitchenAbvGr    -0.135907\n",
       "Name: SalePrice, dtype: float64"
      ]
     },
     "execution_count": 8,
     "metadata": {},
     "output_type": "execute_result"
    }
   ],
   "source": [
    "cor['SalePrice'].sort_values(ascending=False)"
   ]
  },
  {
   "cell_type": "code",
   "execution_count": 9,
   "id": "characteristic-thesis",
   "metadata": {
    "_kg_hide-output": true,
    "execution": {
     "iopub.execute_input": "2022-10-11T12:13:26.437970Z",
     "iopub.status.busy": "2022-10-11T12:13:26.436973Z",
     "iopub.status.idle": "2022-10-11T12:13:30.757924Z",
     "shell.execute_reply": "2022-10-11T12:13:30.757298Z",
     "shell.execute_reply.started": "2021-10-12T16:19:36.910543Z"
    },
    "papermill": {
     "duration": 4.372226,
     "end_time": "2022-10-11T12:13:30.758090",
     "exception": false,
     "start_time": "2022-10-11T12:13:26.385864",
     "status": "completed"
    },
    "tags": []
   },
   "outputs": [
    {
     "data": {
      "text/plain": [
       "<seaborn.axisgrid.PairGrid at 0x7f720011de90>"
      ]
     },
     "execution_count": 9,
     "metadata": {},
     "output_type": "execute_result"
    },
    {
     "data": {
      "image/png": "[encoded data removed]",
      "text/plain": [
       "<Figure size 1728x288 with 6 Axes>"
      ]
     },
     "metadata": {
      "needs_background": "light"
     },
     "output_type": "display_data"
    },
    {
     "data": {
      "image/png": "[encoded data removed]",
      "text/plain": [
       "<Figure size 1728x288 with 6 Axes>"
      ]
     },
     "metadata": {
      "needs_background": "light"
     },
     "output_type": "display_data"
    }
   ],
   "source": [
    "high_cor_feature = sns.PairGrid(X, y_vars=[\"SalePrice\"], x_vars=[\"OverallQual\",\"GrLivArea\",\"GarageCars\",\"GarageArea\",\"TotalBsmtSF\",\"1stFlrSF\"], height=4)\n",
    "high_cor_feature.map(sns.regplot)\n",
    "\n",
    "low_cor_feature = sns.PairGrid(X, y_vars=[\"SalePrice\"], x_vars=[\"LowQualFinSF\",\"YrSold\",\"OverallCond\",\"MSSubClass\",\"EnclosedPorch\",\"KitchenAbvGr\"], height=4)\n",
    "low_cor_feature.map(sns.regplot)"
   ]
  },
  {
   "cell_type": "markdown",
   "id": "german-steering",
   "metadata": {
    "papermill": {
     "duration": 0.053019,
     "end_time": "2022-10-11T12:13:30.866247",
     "exception": false,
     "start_time": "2022-10-11T12:13:30.813228",
     "status": "completed"
    },
    "tags": []
   },
   "source": [
    "# Observation :\n",
    "\n",
    "1. High correlation features draw a possitive regression line with saleprice or target.\n",
    "\n",
    "2. Low correlation features draw a negative regression line with saleprice or target.\n",
    "\n",
    "NB: here used some sample features.\n",
    "\n",
    "<a href=\"#10\" style=\"color:tomato;background-color:black\">Back to content click here</a>"
   ]
  },
  {
   "cell_type": "markdown",
   "id": "asian-lease",
   "metadata": {
    "papermill": {
     "duration": 0.060522,
     "end_time": "2022-10-11T12:13:30.979789",
     "exception": false,
     "start_time": "2022-10-11T12:13:30.919267",
     "status": "completed"
    },
    "tags": []
   },
   "source": [
    "<p id=\"2.6\"></p>\n",
    "<p style=\"text-indent: 1vw; font-family: Arials; font-size:25px; font-style: normal; font-weight: bold; letter-spacing: 2px; color: mediumseagreen; line-height:1.3;text-align:center\"><a href=\"#2.6\"style=\"color:mediumseagreen\">2.6 Features Analysis </a></p>\n",
    "\n",
    "\n",
    "<p style=\"text-indent: 1vw; font-family: Arials; font-size:15px; font-style: normal; font-weight: bold; letter-spacing: 2px; line-height:1.3;text-align:center\">Here i will use some sample features for analysis.</p>\n",
    "\n"
   ]
  },
  {
   "cell_type": "markdown",
   "id": "refined-disabled",
   "metadata": {
    "papermill": {
     "duration": 0.058458,
     "end_time": "2022-10-11T12:13:31.111659",
     "exception": false,
     "start_time": "2022-10-11T12:13:31.053201",
     "status": "completed"
    },
    "tags": []
   },
   "source": [
    "# 1. OverallQual"
   ]
  },
  {
   "cell_type": "code",
   "execution_count": 10,
   "id": "steady-paraguay",
   "metadata": {
    "_kg_hide-output": true,
    "execution": {
     "iopub.execute_input": "2022-10-11T12:13:31.229208Z",
     "iopub.status.busy": "2022-10-11T12:13:31.228499Z",
     "iopub.status.idle": "2022-10-11T12:13:31.238034Z",
     "shell.execute_reply": "2022-10-11T12:13:31.237325Z",
     "shell.execute_reply.started": "2021-10-12T16:19:41.338990Z"
    },
    "papermill": {
     "duration": 0.07359,
     "end_time": "2022-10-11T12:13:31.238202",
     "exception": false,
     "start_time": "2022-10-11T12:13:31.164612",
     "status": "completed"
    },
    "tags": []
   },
   "outputs": [
    {
     "name": "stdout",
     "output_type": "stream",
     "text": [
      "   OverallQual      SalePrice\n",
      "0            1   50150.000000\n",
      "1            2   51770.333333\n",
      "2            3   87473.750000\n",
      "3            4  108420.655172\n",
      "4            5  133523.347607\n",
      "5            6  161603.034759\n",
      "6            7  207716.423197\n",
      "7            8  274735.535714\n",
      "8            9  367513.023256\n",
      "9           10  438588.388889\n"
     ]
    }
   ],
   "source": [
    "print (X[['OverallQual', 'SalePrice']].groupby(['OverallQual'], as_index=False).mean())"
   ]
  },
  {
   "cell_type": "markdown",
   "id": "elect-utilization",
   "metadata": {
    "papermill": {
     "duration": 0.053227,
     "end_time": "2022-10-11T12:13:31.344580",
     "exception": false,
     "start_time": "2022-10-11T12:13:31.291353",
     "status": "completed"
    },
    "tags": []
   },
   "source": [
    "# 2. MSZoning"
   ]
  },
  {
   "cell_type": "code",
   "execution_count": 11,
   "id": "inside-assurance",
   "metadata": {
    "_kg_hide-output": true,
    "execution": {
     "iopub.execute_input": "2022-10-11T12:13:31.463802Z",
     "iopub.status.busy": "2022-10-11T12:13:31.459607Z",
     "iopub.status.idle": "2022-10-11T12:13:31.469345Z",
     "shell.execute_reply": "2022-10-11T12:13:31.468723Z",
     "shell.execute_reply.started": "2021-10-12T16:19:41.356240Z"
    },
    "papermill": {
     "duration": 0.07182,
     "end_time": "2022-10-11T12:13:31.469527",
     "exception": false,
     "start_time": "2022-10-11T12:13:31.397707",
     "status": "completed"
    },
    "tags": []
   },
   "outputs": [
    {
     "name": "stdout",
     "output_type": "stream",
     "text": [
      "  MSZoning      SalePrice\n",
      "0  C (all)   74528.000000\n",
      "1       FV  214014.061538\n",
      "2       RH  131558.375000\n",
      "3       RL  191004.994787\n",
      "4       RM  126316.830275\n"
     ]
    }
   ],
   "source": [
    "print(X[['MSZoning', 'SalePrice']].groupby(['MSZoning'], as_index=False).mean())\n"
   ]
  },
  {
   "cell_type": "markdown",
   "id": "outdoor-valley",
   "metadata": {
    "papermill": {
     "duration": 0.055079,
     "end_time": "2022-10-11T12:13:31.580060",
     "exception": false,
     "start_time": "2022-10-11T12:13:31.524981",
     "status": "completed"
    },
    "tags": []
   },
   "source": [
    "# 3. GrLivArea"
   ]
  },
  {
   "cell_type": "code",
   "execution_count": 12,
   "id": "coastal-colonial",
   "metadata": {
    "_kg_hide-output": true,
    "execution": {
     "iopub.execute_input": "2022-10-11T12:13:31.704996Z",
     "iopub.status.busy": "2022-10-11T12:13:31.704228Z",
     "iopub.status.idle": "2022-10-11T12:13:31.723469Z",
     "shell.execute_reply": "2022-10-11T12:13:31.722758Z",
     "shell.execute_reply.started": "2021-10-12T16:19:41.373545Z"
    },
    "papermill": {
     "duration": 0.088925,
     "end_time": "2022-10-11T12:13:31.723658",
     "exception": false,
     "start_time": "2022-10-11T12:13:31.634733",
     "status": "completed"
    },
    "tags": []
   },
   "outputs": [
    {
     "name": "stdout",
     "output_type": "stream",
     "text": [
      "  CategoricalGrLivArea      SalePrice\n",
      "0    (328.692, 1395.6]  132458.402421\n",
      "1     (1395.6, 2457.2]  209856.795580\n",
      "2     (2457.2, 3518.8]  314621.333333\n",
      "3     (3518.8, 4580.4]  650000.000000\n",
      "4     (4580.4, 5642.0]  172375.000000\n"
     ]
    }
   ],
   "source": [
    "X['CategoricalGrLivArea'] = pd.cut(X['GrLivArea'], 5)\n",
    "print(X[['CategoricalGrLivArea','SalePrice']].groupby(['CategoricalGrLivArea'], as_index=False).mean())"
   ]
  },
  {
   "cell_type": "markdown",
   "id": "interim-clerk",
   "metadata": {
    "papermill": {
     "duration": 0.053935,
     "end_time": "2022-10-11T12:13:31.833086",
     "exception": false,
     "start_time": "2022-10-11T12:13:31.779151",
     "status": "completed"
    },
    "tags": []
   },
   "source": [
    "# 4. GarageCars"
   ]
  },
  {
   "cell_type": "code",
   "execution_count": 13,
   "id": "brief-gentleman",
   "metadata": {
    "_kg_hide-output": true,
    "execution": {
     "iopub.execute_input": "2022-10-11T12:13:31.947103Z",
     "iopub.status.busy": "2022-10-11T12:13:31.946421Z",
     "iopub.status.idle": "2022-10-11T12:13:31.958845Z",
     "shell.execute_reply": "2022-10-11T12:13:31.959619Z",
     "shell.execute_reply.started": "2021-10-12T16:19:41.402821Z"
    },
    "papermill": {
     "duration": 0.072436,
     "end_time": "2022-10-11T12:13:31.959915",
     "exception": false,
     "start_time": "2022-10-11T12:13:31.887479",
     "status": "completed"
    },
    "tags": []
   },
   "outputs": [
    {
     "name": "stdout",
     "output_type": "stream",
     "text": [
      "   GarageCars      SalePrice\n",
      "0           0  103317.283951\n",
      "1           1  128116.688347\n",
      "2           2  183851.663835\n",
      "3           3  309636.121547\n",
      "4           4  192655.800000\n"
     ]
    }
   ],
   "source": [
    "print(X[['GarageCars','SalePrice']].groupby(['GarageCars'], as_index=False).mean())"
   ]
  },
  {
   "cell_type": "markdown",
   "id": "previous-westminster",
   "metadata": {
    "papermill": {
     "duration": 0.053964,
     "end_time": "2022-10-11T12:13:32.072280",
     "exception": false,
     "start_time": "2022-10-11T12:13:32.018316",
     "status": "completed"
    },
    "tags": []
   },
   "source": [
    "# 5. TotalBsmtSF"
   ]
  },
  {
   "cell_type": "code",
   "execution_count": 14,
   "id": "hindu-facial",
   "metadata": {
    "_kg_hide-output": true,
    "execution": {
     "iopub.execute_input": "2022-10-11T12:13:32.186357Z",
     "iopub.status.busy": "2022-10-11T12:13:32.185312Z",
     "iopub.status.idle": "2022-10-11T12:13:32.203118Z",
     "shell.execute_reply": "2022-10-11T12:13:32.203715Z",
     "shell.execute_reply.started": "2021-10-12T16:19:41.418031Z"
    },
    "papermill": {
     "duration": 0.077213,
     "end_time": "2022-10-11T12:13:32.203935",
     "exception": false,
     "start_time": "2022-10-11T12:13:32.126722",
     "status": "completed"
    },
    "tags": []
   },
   "outputs": [
    {
     "name": "stdout",
     "output_type": "stream",
     "text": [
      "  CategoricalTotalBsmtSF      SalePrice\n",
      "0        (-6.11, 1222.0]  153526.177043\n",
      "1       (1222.0, 2444.0]  244615.967059\n",
      "2       (2444.0, 3666.0]  366375.000000\n",
      "3       (3666.0, 4888.0]            NaN\n",
      "4       (4888.0, 6110.0]  160000.000000\n"
     ]
    }
   ],
   "source": [
    "X['CategoricalTotalBsmtSF'] = pd.cut(X['TotalBsmtSF'], 5)\n",
    "print(X[['CategoricalTotalBsmtSF','SalePrice']].groupby(['CategoricalTotalBsmtSF'], as_index=False).mean())"
   ]
  },
  {
   "cell_type": "markdown",
   "id": "coordinate-clearance",
   "metadata": {
    "papermill": {
     "duration": 0.05426,
     "end_time": "2022-10-11T12:13:32.312413",
     "exception": false,
     "start_time": "2022-10-11T12:13:32.258153",
     "status": "completed"
    },
    "tags": []
   },
   "source": [
    "# 6. 1stFlrSF"
   ]
  },
  {
   "cell_type": "code",
   "execution_count": 15,
   "id": "secret-meditation",
   "metadata": {
    "_kg_hide-output": true,
    "execution": {
     "iopub.execute_input": "2022-10-11T12:13:32.428056Z",
     "iopub.status.busy": "2022-10-11T12:13:32.426985Z",
     "iopub.status.idle": "2022-10-11T12:13:32.446508Z",
     "shell.execute_reply": "2022-10-11T12:13:32.445912Z",
     "shell.execute_reply.started": "2021-10-12T16:19:41.439443Z"
    },
    "papermill": {
     "duration": 0.078827,
     "end_time": "2022-10-11T12:13:32.446692",
     "exception": false,
     "start_time": "2022-10-11T12:13:32.367865",
     "status": "completed"
    },
    "tags": []
   },
   "outputs": [
    {
     "name": "stdout",
     "output_type": "stream",
     "text": [
      "  Categorical1stFlrSF      SalePrice\n",
      "0   (329.642, 1205.6]  150379.302222\n",
      "1    (1205.6, 2077.2]  223830.560150\n",
      "2    (2077.2, 2948.8]  358038.640000\n",
      "3    (2948.8, 3820.4]  307375.000000\n",
      "4    (3820.4, 4692.0]  160000.000000\n"
     ]
    }
   ],
   "source": [
    "X['Categorical1stFlrSF'] = pd.cut(X['1stFlrSF'], 5)\n",
    "print(X[['Categorical1stFlrSF','SalePrice']].groupby(['Categorical1stFlrSF'], as_index=False).mean())"
   ]
  },
  {
   "cell_type": "markdown",
   "id": "younger-afternoon",
   "metadata": {
    "papermill": {
     "duration": 0.05546,
     "end_time": "2022-10-11T12:13:32.557220",
     "exception": false,
     "start_time": "2022-10-11T12:13:32.501760",
     "status": "completed"
    },
    "tags": []
   },
   "source": [
    "# 7. YrSold"
   ]
  },
  {
   "cell_type": "code",
   "execution_count": 16,
   "id": "systematic-persian",
   "metadata": {
    "_kg_hide-output": true,
    "execution": {
     "iopub.execute_input": "2022-10-11T12:13:32.677329Z",
     "iopub.status.busy": "2022-10-11T12:13:32.676604Z",
     "iopub.status.idle": "2022-10-11T12:13:32.684420Z",
     "shell.execute_reply": "2022-10-11T12:13:32.683793Z",
     "shell.execute_reply.started": "2021-10-12T16:19:41.457577Z"
    },
    "papermill": {
     "duration": 0.070819,
     "end_time": "2022-10-11T12:13:32.684590",
     "exception": false,
     "start_time": "2022-10-11T12:13:32.613771",
     "status": "completed"
    },
    "tags": []
   },
   "outputs": [
    {
     "name": "stdout",
     "output_type": "stream",
     "text": [
      "   YrSold      SalePrice\n",
      "0    2006  182549.458599\n",
      "1    2007  186063.151976\n",
      "2    2008  177360.838816\n",
      "3    2009  179432.103550\n",
      "4    2010  177393.674286\n"
     ]
    }
   ],
   "source": [
    "print (X[['YrSold', 'SalePrice']].groupby(['YrSold'], as_index=False).mean())"
   ]
  },
  {
   "cell_type": "markdown",
   "id": "nutritional-filing",
   "metadata": {
    "papermill": {
     "duration": 0.055926,
     "end_time": "2022-10-11T12:13:32.797061",
     "exception": false,
     "start_time": "2022-10-11T12:13:32.741135",
     "status": "completed"
    },
    "tags": []
   },
   "source": [
    "# 8. KitchenAbvGr"
   ]
  },
  {
   "cell_type": "code",
   "execution_count": 17,
   "id": "announced-thing",
   "metadata": {
    "_kg_hide-output": true,
    "execution": {
     "iopub.execute_input": "2022-10-11T12:13:32.918890Z",
     "iopub.status.busy": "2022-10-11T12:13:32.914489Z",
     "iopub.status.idle": "2022-10-11T12:13:32.925850Z",
     "shell.execute_reply": "2022-10-11T12:13:32.926686Z",
     "shell.execute_reply.started": "2021-10-12T16:19:41.471538Z"
    },
    "papermill": {
     "duration": 0.0727,
     "end_time": "2022-10-11T12:13:32.926968",
     "exception": false,
     "start_time": "2022-10-11T12:13:32.854268",
     "status": "completed"
    },
    "tags": []
   },
   "outputs": [
    {
     "name": "stdout",
     "output_type": "stream",
     "text": [
      "   KitchenAbvGr      SalePrice\n",
      "0             0  127500.000000\n",
      "1             1  183388.790230\n",
      "2             2  131096.153846\n",
      "3             3  109500.000000\n"
     ]
    }
   ],
   "source": [
    "print (X[['KitchenAbvGr', 'SalePrice']].groupby(['KitchenAbvGr'], as_index=False).mean())"
   ]
  },
  {
   "cell_type": "markdown",
   "id": "acute-jacob",
   "metadata": {
    "papermill": {
     "duration": 0.058919,
     "end_time": "2022-10-11T12:13:33.045115",
     "exception": false,
     "start_time": "2022-10-11T12:13:32.986196",
     "status": "completed"
    },
    "tags": []
   },
   "source": [
    "# Observation :\n",
    " Look at the variation of saleprice. High correlation features impact more on saleprice, on the other hand low correlation features impact less on saleprice . Here YrSold and KitchenAbvGr impact less on saleprice .Here from 2006-2010 house price remains same on average.\n",
    " \n",
    " <a href=\"#10\" style=\"color:tomato;background-color:black\">Back to content click here</a>"
   ]
  },
  {
   "cell_type": "markdown",
   "id": "offshore-prevention",
   "metadata": {
    "papermill": {
     "duration": 0.054307,
     "end_time": "2022-10-11T12:13:33.155968",
     "exception": false,
     "start_time": "2022-10-11T12:13:33.101661",
     "status": "completed"
    },
    "tags": []
   },
   "source": [
    "<p id=\"3\"></p>\n",
    "<p style=\"font-family: Arials; font-size: 40px; font-style: normal; font-weight: bold; letter-spacing: 2px; color: mediumseagreen; line-height:1.3;text-align:center\"><a href=\"#3\" style=\"color:violet\">3. Data Clean</a></p>\n",
    "\n",
    "<p style=\"text-indent: 1vw; font-family: Arials; font-size:15px; font-style: normal; font-weight: bold; letter-spacing: 2px; line-height:1.3;text-align:center\">Data cleaning is the process of detecting and correcting (or removing) corrupt or inaccurate records from a record set, table, or database</p>\n",
    "<a href=\"#10\" style=\"color:tomato;background-color:black\">Back to content click here</a>\n",
    "<hr style=\"height: 0.5px; border: 0; background-color: #808080\">"
   ]
  },
  {
   "cell_type": "markdown",
   "id": "brilliant-responsibility",
   "metadata": {
    "papermill": {
     "duration": 0.054508,
     "end_time": "2022-10-11T12:13:33.265908",
     "exception": false,
     "start_time": "2022-10-11T12:13:33.211400",
     "status": "completed"
    },
    "tags": []
   },
   "source": [
    "<p id=\"3.1\"></p>\n",
    "<p style=\"text-indent: 1vw; font-family: Arials; font-size:25px; font-style: normal; font-weight: bold; letter-spacing: 2px; color: mediumseagreen; line-height:1.3;text-align:center\"><a href=\"#2.3.7\"style=\"color:mediumseagreen\">3.1 Drop Target </a></p>\n",
    "<p style=\"text-indent: 1vw; font-family: Arials; font-size:15px; font-style: normal; font-weight: bold; letter-spacing: 2px; line-height:1.3;text-align:center\">Here i drop target variable and add train and test data so that it will be easy for clean.</p>\n",
    "<a href=\"#10\" style=\"color:tomato;background-color:black\">Back to content click here</a>"
   ]
  },
  {
   "cell_type": "code",
   "execution_count": 18,
   "id": "authentic-renewal",
   "metadata": {
    "execution": {
     "iopub.execute_input": "2022-10-11T12:13:33.379733Z",
     "iopub.status.busy": "2022-10-11T12:13:33.379016Z",
     "iopub.status.idle": "2022-10-11T12:13:33.437541Z",
     "shell.execute_reply": "2022-10-11T12:13:33.438398Z",
     "shell.execute_reply.started": "2021-10-12T16:19:41.490366Z"
    },
    "papermill": {
     "duration": 0.117254,
     "end_time": "2022-10-11T12:13:33.438684",
     "exception": false,
     "start_time": "2022-10-11T12:13:33.321430",
     "status": "completed"
    },
    "tags": []
   },
   "outputs": [
    {
     "name": "stdout",
     "output_type": "stream",
     "text": [
      "<class 'pandas.core.frame.DataFrame'>\n",
      "Int64Index: 2919 entries, 0 to 1458\n",
      "Data columns (total 82 columns):\n",
      " #   Column                  Non-Null Count  Dtype  \n",
      "---  ------                  --------------  -----  \n",
      " 0   MSSubClass              2919 non-null   int64  \n",
      " 1   MSZoning                2915 non-null   object \n",
      " 2   LotFrontage             2433 non-null   float64\n",
      " 3   LotArea                 2919 non-null   int64  \n",
      " 4   Street                  2919 non-null   object \n",
      " 5   Alley                   198 non-null    object \n",
      " 6   LotShape                2919 non-null   object \n",
      " 7   LandContour             2919 non-null   object \n",
      " 8   Utilities               2917 non-null   object \n",
      " 9   LotConfig               2919 non-null   object \n",
      " 10  LandSlope               2919 non-null   object \n",
      " 11  Neighborhood            2919 non-null   object \n",
      " 12  Condition1              2919 non-null   object \n",
      " 13  Condition2              2919 non-null   object \n",
      " 14  BldgType                2919 non-null   object \n",
      " 15  HouseStyle              2919 non-null   object \n",
      " 16  OverallQual             2919 non-null   int64  \n",
      " 17  OverallCond             2919 non-null   int64  \n",
      " 18  YearBuilt               2919 non-null   int64  \n",
      " 19  YearRemodAdd            2919 non-null   int64  \n",
      " 20  RoofStyle               2919 non-null   object \n",
      " 21  RoofMatl                2919 non-null   object \n",
      " 22  Exterior1st             2918 non-null   object \n",
      " 23  Exterior2nd             2918 non-null   object \n",
      " 24  MasVnrType              2895 non-null   object \n",
      " 25  MasVnrArea              2896 non-null   float64\n",
      " 26  ExterQual               2919 non-null   object \n",
      " 27  ExterCond               2919 non-null   object \n",
      " 28  Foundation              2919 non-null   object \n",
      " 29  BsmtQual                2838 non-null   object \n",
      " 30  BsmtCond                2837 non-null   object \n",
      " 31  BsmtExposure            2837 non-null   object \n",
      " 32  BsmtFinType1            2840 non-null   object \n",
      " 33  BsmtFinSF1              2918 non-null   float64\n",
      " 34  BsmtFinType2            2839 non-null   object \n",
      " 35  BsmtFinSF2              2918 non-null   float64\n",
      " 36  BsmtUnfSF               2918 non-null   float64\n",
      " 37  TotalBsmtSF             2918 non-null   float64\n",
      " 38  Heating                 2919 non-null   object \n",
      " 39  HeatingQC               2919 non-null   object \n",
      " 40  CentralAir              2919 non-null   object \n",
      " 41  Electrical              2918 non-null   object \n",
      " 42  1stFlrSF                2919 non-null   int64  \n",
      " 43  2ndFlrSF                2919 non-null   int64  \n",
      " 44  LowQualFinSF            2919 non-null   int64  \n",
      " 45  GrLivArea               2919 non-null   int64  \n",
      " 46  BsmtFullBath            2917 non-null   float64\n",
      " 47  BsmtHalfBath            2917 non-null   float64\n",
      " 48  FullBath                2919 non-null   int64  \n",
      " 49  HalfBath                2919 non-null   int64  \n",
      " 50  BedroomAbvGr            2919 non-null   int64  \n",
      " 51  KitchenAbvGr            2919 non-null   int64  \n",
      " 52  KitchenQual             2918 non-null   object \n",
      " 53  TotRmsAbvGrd            2919 non-null   int64  \n",
      " 54  Functional              2917 non-null   object \n",
      " 55  Fireplaces              2919 non-null   int64  \n",
      " 56  FireplaceQu             1499 non-null   object \n",
      " 57  GarageType              2762 non-null   object \n",
      " 58  GarageYrBlt             2760 non-null   float64\n",
      " 59  GarageFinish            2760 non-null   object \n",
      " 60  GarageCars              2918 non-null   float64\n",
      " 61  GarageArea              2918 non-null   float64\n",
      " 62  GarageQual              2760 non-null   object \n",
      " 63  GarageCond              2760 non-null   object \n",
      " 64  PavedDrive              2919 non-null   object \n",
      " 65  WoodDeckSF              2919 non-null   int64  \n",
      " 66  OpenPorchSF             2919 non-null   int64  \n",
      " 67  EnclosedPorch           2919 non-null   int64  \n",
      " 68  3SsnPorch               2919 non-null   int64  \n",
      " 69  ScreenPorch             2919 non-null   int64  \n",
      " 70  PoolArea                2919 non-null   int64  \n",
      " 71  PoolQC                  10 non-null     object \n",
      " 72  Fence                   571 non-null    object \n",
      " 73  MiscFeature             105 non-null    object \n",
      " 74  MiscVal                 2919 non-null   int64  \n",
      " 75  MoSold                  2919 non-null   int64  \n",
      " 76  YrSold                  2919 non-null   int64  \n",
      " 77  SaleType                2918 non-null   object \n",
      " 78  SaleCondition           2919 non-null   object \n",
      " 79  CategoricalGrLivArea    1460 non-null   object \n",
      " 80  CategoricalTotalBsmtSF  1460 non-null   object \n",
      " 81  Categorical1stFlrSF     1460 non-null   object \n",
      "dtypes: float64(11), int64(25), object(46)\n",
      "memory usage: 1.8+ MB\n"
     ]
    }
   ],
   "source": [
    "test_id = test['Id']\n",
    "total_data = pd.concat([X, test], axis=0, sort=False)\n",
    "total_data = total_data.drop(['Id', 'SalePrice'], axis=1)\n",
    "total_data.info()"
   ]
  },
  {
   "cell_type": "markdown",
   "id": "strong-government",
   "metadata": {
    "papermill": {
     "duration": 0.058517,
     "end_time": "2022-10-11T12:13:33.554880",
     "exception": false,
     "start_time": "2022-10-11T12:13:33.496363",
     "status": "completed"
    },
    "tags": []
   },
   "source": [
    "<p id=\"3.2\"></p>\n",
    "<p style=\"text-indent: 1vw; font-family: Arials; font-size:25px; font-style: normal; font-weight: bold; letter-spacing: 2px; color: mediumseagreen; line-height:1.3;text-align:center\"><a href=\"#2.3.7\"style=\"color:mediumseagreen\">3.2 Count Missing Value </a></p>\n",
    "\n",
    "<p style=\"text-indent: 1vw; font-family: Arials; font-size:15px; font-style: normal; font-weight: bold; letter-spacing: 2px; line-height:1.3;text-align:center\">Here i count  missing value and percentage for each column.</p>\n",
    "\n",
    "<a href=\"#10\" style=\"color:tomato;background-color:black\">Back to content click here</a>"
   ]
  },
  {
   "cell_type": "code",
   "execution_count": 19,
   "id": "parallel-bullet",
   "metadata": {
    "_kg_hide-output": true,
    "execution": {
     "iopub.execute_input": "2022-10-11T12:13:33.672676Z",
     "iopub.status.busy": "2022-10-11T12:13:33.671952Z",
     "iopub.status.idle": "2022-10-11T12:13:33.717571Z",
     "shell.execute_reply": "2022-10-11T12:13:33.716813Z",
     "shell.execute_reply.started": "2021-10-12T16:19:41.557585Z"
    },
    "papermill": {
     "duration": 0.105768,
     "end_time": "2022-10-11T12:13:33.717734",
     "exception": false,
     "start_time": "2022-10-11T12:13:33.611966",
     "status": "completed"
    },
    "tags": []
   },
   "outputs": [
    {
     "data": {
      "text/html": [
       "<div>\n",
       "<style scoped>\n",
       "    .dataframe tbody tr th:only-of-type {\n",
       "        vertical-align: middle;\n",
       "    }\n",
       "\n",
       "    .dataframe tbody tr th {\n",
       "        vertical-align: top;\n",
       "    }\n",
       "\n",
       "    .dataframe thead th {\n",
       "        text-align: right;\n",
       "    }\n",
       "</style>\n",
       "<table border=\"1\" class=\"dataframe\">\n",
       "  <thead>\n",
       "    <tr style=\"text-align: right;\">\n",
       "      <th></th>\n",
       "      <th>missing</th>\n",
       "      <th>percent</th>\n",
       "    </tr>\n",
       "  </thead>\n",
       "  <tbody>\n",
       "    <tr>\n",
       "      <th>PoolQC</th>\n",
       "      <td>2909</td>\n",
       "      <td>99.657417</td>\n",
       "    </tr>\n",
       "    <tr>\n",
       "      <th>MiscFeature</th>\n",
       "      <td>2814</td>\n",
       "      <td>96.402878</td>\n",
       "    </tr>\n",
       "    <tr>\n",
       "      <th>Alley</th>\n",
       "      <td>2721</td>\n",
       "      <td>93.216855</td>\n",
       "    </tr>\n",
       "    <tr>\n",
       "      <th>Fence</th>\n",
       "      <td>2348</td>\n",
       "      <td>80.438506</td>\n",
       "    </tr>\n",
       "    <tr>\n",
       "      <th>Categorical1stFlrSF</th>\n",
       "      <td>1459</td>\n",
       "      <td>49.982871</td>\n",
       "    </tr>\n",
       "    <tr>\n",
       "      <th>CategoricalTotalBsmtSF</th>\n",
       "      <td>1459</td>\n",
       "      <td>49.982871</td>\n",
       "    </tr>\n",
       "    <tr>\n",
       "      <th>CategoricalGrLivArea</th>\n",
       "      <td>1459</td>\n",
       "      <td>49.982871</td>\n",
       "    </tr>\n",
       "    <tr>\n",
       "      <th>FireplaceQu</th>\n",
       "      <td>1420</td>\n",
       "      <td>48.646797</td>\n",
       "    </tr>\n",
       "    <tr>\n",
       "      <th>LotFrontage</th>\n",
       "      <td>486</td>\n",
       "      <td>16.649538</td>\n",
       "    </tr>\n",
       "    <tr>\n",
       "      <th>GarageQual</th>\n",
       "      <td>159</td>\n",
       "      <td>5.447071</td>\n",
       "    </tr>\n",
       "    <tr>\n",
       "      <th>GarageFinish</th>\n",
       "      <td>159</td>\n",
       "      <td>5.447071</td>\n",
       "    </tr>\n",
       "    <tr>\n",
       "      <th>GarageYrBlt</th>\n",
       "      <td>159</td>\n",
       "      <td>5.447071</td>\n",
       "    </tr>\n",
       "    <tr>\n",
       "      <th>GarageCond</th>\n",
       "      <td>159</td>\n",
       "      <td>5.447071</td>\n",
       "    </tr>\n",
       "    <tr>\n",
       "      <th>GarageType</th>\n",
       "      <td>157</td>\n",
       "      <td>5.378554</td>\n",
       "    </tr>\n",
       "    <tr>\n",
       "      <th>BsmtExposure</th>\n",
       "      <td>82</td>\n",
       "      <td>2.809181</td>\n",
       "    </tr>\n",
       "    <tr>\n",
       "      <th>BsmtCond</th>\n",
       "      <td>82</td>\n",
       "      <td>2.809181</td>\n",
       "    </tr>\n",
       "    <tr>\n",
       "      <th>BsmtQual</th>\n",
       "      <td>81</td>\n",
       "      <td>2.774923</td>\n",
       "    </tr>\n",
       "    <tr>\n",
       "      <th>BsmtFinType2</th>\n",
       "      <td>80</td>\n",
       "      <td>2.740665</td>\n",
       "    </tr>\n",
       "    <tr>\n",
       "      <th>BsmtFinType1</th>\n",
       "      <td>79</td>\n",
       "      <td>2.706406</td>\n",
       "    </tr>\n",
       "    <tr>\n",
       "      <th>MasVnrType</th>\n",
       "      <td>24</td>\n",
       "      <td>0.822199</td>\n",
       "    </tr>\n",
       "    <tr>\n",
       "      <th>MasVnrArea</th>\n",
       "      <td>23</td>\n",
       "      <td>0.787941</td>\n",
       "    </tr>\n",
       "    <tr>\n",
       "      <th>MSZoning</th>\n",
       "      <td>4</td>\n",
       "      <td>0.137033</td>\n",
       "    </tr>\n",
       "    <tr>\n",
       "      <th>Functional</th>\n",
       "      <td>2</td>\n",
       "      <td>0.068517</td>\n",
       "    </tr>\n",
       "    <tr>\n",
       "      <th>BsmtHalfBath</th>\n",
       "      <td>2</td>\n",
       "      <td>0.068517</td>\n",
       "    </tr>\n",
       "    <tr>\n",
       "      <th>Utilities</th>\n",
       "      <td>2</td>\n",
       "      <td>0.068517</td>\n",
       "    </tr>\n",
       "    <tr>\n",
       "      <th>BsmtFullBath</th>\n",
       "      <td>2</td>\n",
       "      <td>0.068517</td>\n",
       "    </tr>\n",
       "    <tr>\n",
       "      <th>KitchenQual</th>\n",
       "      <td>1</td>\n",
       "      <td>0.034258</td>\n",
       "    </tr>\n",
       "    <tr>\n",
       "      <th>GarageArea</th>\n",
       "      <td>1</td>\n",
       "      <td>0.034258</td>\n",
       "    </tr>\n",
       "    <tr>\n",
       "      <th>TotalBsmtSF</th>\n",
       "      <td>1</td>\n",
       "      <td>0.034258</td>\n",
       "    </tr>\n",
       "    <tr>\n",
       "      <th>BsmtUnfSF</th>\n",
       "      <td>1</td>\n",
       "      <td>0.034258</td>\n",
       "    </tr>\n",
       "  </tbody>\n",
       "</table>\n",
       "</div>"
      ],
      "text/plain": [
       "                        missing    percent\n",
       "PoolQC                     2909  99.657417\n",
       "MiscFeature                2814  96.402878\n",
       "Alley                      2721  93.216855\n",
       "Fence                      2348  80.438506\n",
       "Categorical1stFlrSF        1459  49.982871\n",
       "CategoricalTotalBsmtSF     1459  49.982871\n",
       "CategoricalGrLivArea       1459  49.982871\n",
       "FireplaceQu                1420  48.646797\n",
       "LotFrontage                 486  16.649538\n",
       "GarageQual                  159   5.447071\n",
       "GarageFinish                159   5.447071\n",
       "GarageYrBlt                 159   5.447071\n",
       "GarageCond                  159   5.447071\n",
       "GarageType                  157   5.378554\n",
       "BsmtExposure                 82   2.809181\n",
       "BsmtCond                     82   2.809181\n",
       "BsmtQual                     81   2.774923\n",
       "BsmtFinType2                 80   2.740665\n",
       "BsmtFinType1                 79   2.706406\n",
       "MasVnrType                   24   0.822199\n",
       "MasVnrArea                   23   0.787941\n",
       "MSZoning                      4   0.137033\n",
       "Functional                    2   0.068517\n",
       "BsmtHalfBath                  2   0.068517\n",
       "Utilities                     2   0.068517\n",
       "BsmtFullBath                  2   0.068517\n",
       "KitchenQual                   1   0.034258\n",
       "GarageArea                    1   0.034258\n",
       "TotalBsmtSF                   1   0.034258\n",
       "BsmtUnfSF                     1   0.034258"
      ]
     },
     "execution_count": 19,
     "metadata": {},
     "output_type": "execute_result"
    }
   ],
   "source": [
    "missing_values_count = total_data.isnull().sum().sort_values(ascending=False)\n",
    "percent= (total_data.isnull().sum() / total_data.isnull().count().sort_values(ascending=False)*100)\n",
    "missing_data = pd.concat([missing_values_count,percent], axis=1, keys=['missing', 'percent'])\n",
    "missing_data.head(30)"
   ]
  },
  {
   "cell_type": "markdown",
   "id": "returning-portfolio",
   "metadata": {
    "papermill": {
     "duration": 0.055322,
     "end_time": "2022-10-11T12:13:33.830814",
     "exception": false,
     "start_time": "2022-10-11T12:13:33.775492",
     "status": "completed"
    },
    "tags": []
   },
   "source": [
    "<p id=\"3.3\"></p>\n",
    "<p style=\"text-indent: 1vw; font-family: Arials; font-size:25px; font-style: normal; font-weight: bold; letter-spacing: 2px; color: mediumseagreen; line-height:1.3;text-align:center\"><a href=\"#3.3\"style=\"color:mediumseagreen\">3.3 Drop Missing Value More Then 4</a></p>\n",
    "\n",
    "<a href=\"#10\" style=\"color:tomato;background-color:black\">Back to content click here</a>"
   ]
  },
  {
   "cell_type": "code",
   "execution_count": 20,
   "id": "rental-element",
   "metadata": {
    "_kg_hide-input": false,
    "_kg_hide-output": true,
    "execution": {
     "iopub.execute_input": "2022-10-11T12:13:33.947315Z",
     "iopub.status.busy": "2022-10-11T12:13:33.946649Z",
     "iopub.status.idle": "2022-10-11T12:13:33.966436Z",
     "shell.execute_reply": "2022-10-11T12:13:33.965717Z",
     "shell.execute_reply.started": "2021-10-12T16:19:41.625633Z"
    },
    "papermill": {
     "duration": 0.079783,
     "end_time": "2022-10-11T12:13:33.966625",
     "exception": false,
     "start_time": "2022-10-11T12:13:33.886842",
     "status": "completed"
    },
    "tags": []
   },
   "outputs": [
    {
     "data": {
      "text/plain": [
       "MSZoning        4\n",
       "Functional      2\n",
       "BsmtFullBath    2\n",
       "BsmtHalfBath    2\n",
       "Utilities       2\n",
       "BsmtFinSF2      1\n",
       "Exterior2nd     1\n",
       "GarageCars      1\n",
       "GarageArea      1\n",
       "BsmtFinSF1      1\n",
       "BsmtUnfSF       1\n",
       "Exterior1st     1\n",
       "TotalBsmtSF     1\n",
       "Electrical      1\n",
       "SaleType        1\n",
       "KitchenQual     1\n",
       "HalfBath        0\n",
       "FullBath        0\n",
       "BedroomAbvGr    0\n",
       "KitchenAbvGr    0\n",
       "dtype: int64"
      ]
     },
     "execution_count": 20,
     "metadata": {},
     "output_type": "execute_result"
    }
   ],
   "source": [
    "total_data.drop(missing_data[missing_data['missing']>4].index,axis=1,inplace=True)\n",
    "#total_data.drop(['Name'],axis=1,inplace=True)\n",
    "a=total_data.isnull().sum().sort_values(ascending=False)\n",
    "\n",
    "a.head(20)"
   ]
  },
  {
   "cell_type": "markdown",
   "id": "young-start",
   "metadata": {
    "papermill": {
     "duration": 0.056121,
     "end_time": "2022-10-11T12:13:34.079270",
     "exception": false,
     "start_time": "2022-10-11T12:13:34.023149",
     "status": "completed"
    },
    "tags": []
   },
   "source": [
    "<p id=\"3.4\"></p>\n",
    "<p style=\"text-indent: 1vw; font-family: Arials; font-size: 25px; font-style: normal; font-weight: bold; letter-spacing: 2px; color: mediumseagreen; line-height:1.3;text-align:center\"> \n",
    "<a href=\"#3.4\" style=\"color:mediumseagreen\">3.4 Apply Label Encoder Method</a></p>\n",
    "\n",
    "<p style=\"text-indent: 1vw; font-family: Arials; font-size:15px; font-style: normal; font-weight: bold; letter-spacing: 2px; line-height:1.3;text-align:center\">Label encoder method used for handle categorical column. look at the output of code here categorical column is convert int64 and there are no missing value.</p>\n",
    "\n",
    "<a href=\"#10\" style=\"color:tomato;background-color:black\">Back to content click here</a>"
   ]
  },
  {
   "cell_type": "code",
   "execution_count": 21,
   "id": "perfect-adams",
   "metadata": {
    "_kg_hide-output": true,
    "execution": {
     "iopub.execute_input": "2022-10-11T12:13:34.203277Z",
     "iopub.status.busy": "2022-10-11T12:13:34.202522Z",
     "iopub.status.idle": "2022-10-11T12:13:34.263846Z",
     "shell.execute_reply": "2022-10-11T12:13:34.263268Z",
     "shell.execute_reply.started": "2021-10-12T16:19:41.650215Z"
    },
    "papermill": {
     "duration": 0.128641,
     "end_time": "2022-10-11T12:13:34.264008",
     "exception": false,
     "start_time": "2022-10-11T12:13:34.135367",
     "status": "completed"
    },
    "tags": []
   },
   "outputs": [
    {
     "name": "stdout",
     "output_type": "stream",
     "text": [
      "<class 'pandas.core.frame.DataFrame'>\n",
      "Int64Index: 2919 entries, 0 to 1458\n",
      "Data columns (total 61 columns):\n",
      " #   Column         Non-Null Count  Dtype  \n",
      "---  ------         --------------  -----  \n",
      " 0   MSSubClass     2919 non-null   int64  \n",
      " 1   MSZoning       2919 non-null   int64  \n",
      " 2   LotArea        2919 non-null   int64  \n",
      " 3   Street         2919 non-null   int64  \n",
      " 4   LotShape       2919 non-null   int64  \n",
      " 5   LandContour    2919 non-null   int64  \n",
      " 6   Utilities      2919 non-null   int64  \n",
      " 7   LotConfig      2919 non-null   int64  \n",
      " 8   LandSlope      2919 non-null   int64  \n",
      " 9   Neighborhood   2919 non-null   int64  \n",
      " 10  Condition1     2919 non-null   int64  \n",
      " 11  Condition2     2919 non-null   int64  \n",
      " 12  BldgType       2919 non-null   int64  \n",
      " 13  HouseStyle     2919 non-null   int64  \n",
      " 14  OverallQual    2919 non-null   int64  \n",
      " 15  OverallCond    2919 non-null   int64  \n",
      " 16  YearBuilt      2919 non-null   int64  \n",
      " 17  YearRemodAdd   2919 non-null   int64  \n",
      " 18  RoofStyle      2919 non-null   int64  \n",
      " 19  RoofMatl       2919 non-null   int64  \n",
      " 20  Exterior1st    2919 non-null   int64  \n",
      " 21  Exterior2nd    2919 non-null   int64  \n",
      " 22  ExterQual      2919 non-null   int64  \n",
      " 23  ExterCond      2919 non-null   int64  \n",
      " 24  Foundation     2919 non-null   int64  \n",
      " 25  BsmtFinSF1     2918 non-null   float64\n",
      " 26  BsmtFinSF2     2918 non-null   float64\n",
      " 27  BsmtUnfSF      2918 non-null   float64\n",
      " 28  TotalBsmtSF    2918 non-null   float64\n",
      " 29  Heating        2919 non-null   int64  \n",
      " 30  HeatingQC      2919 non-null   int64  \n",
      " 31  CentralAir     2919 non-null   int64  \n",
      " 32  Electrical     2919 non-null   int64  \n",
      " 33  1stFlrSF       2919 non-null   int64  \n",
      " 34  2ndFlrSF       2919 non-null   int64  \n",
      " 35  LowQualFinSF   2919 non-null   int64  \n",
      " 36  GrLivArea      2919 non-null   int64  \n",
      " 37  BsmtFullBath   2917 non-null   float64\n",
      " 38  BsmtHalfBath   2917 non-null   float64\n",
      " 39  FullBath       2919 non-null   int64  \n",
      " 40  HalfBath       2919 non-null   int64  \n",
      " 41  BedroomAbvGr   2919 non-null   int64  \n",
      " 42  KitchenAbvGr   2919 non-null   int64  \n",
      " 43  KitchenQual    2919 non-null   int64  \n",
      " 44  TotRmsAbvGrd   2919 non-null   int64  \n",
      " 45  Functional     2919 non-null   int64  \n",
      " 46  Fireplaces     2919 non-null   int64  \n",
      " 47  GarageCars     2918 non-null   float64\n",
      " 48  GarageArea     2918 non-null   float64\n",
      " 49  PavedDrive     2919 non-null   int64  \n",
      " 50  WoodDeckSF     2919 non-null   int64  \n",
      " 51  OpenPorchSF    2919 non-null   int64  \n",
      " 52  EnclosedPorch  2919 non-null   int64  \n",
      " 53  3SsnPorch      2919 non-null   int64  \n",
      " 54  ScreenPorch    2919 non-null   int64  \n",
      " 55  PoolArea       2919 non-null   int64  \n",
      " 56  MiscVal        2919 non-null   int64  \n",
      " 57  MoSold         2919 non-null   int64  \n",
      " 58  YrSold         2919 non-null   int64  \n",
      " 59  SaleType       2919 non-null   int64  \n",
      " 60  SaleCondition  2919 non-null   int64  \n",
      "dtypes: float64(8), int64(53)\n",
      "memory usage: 1.4 MB\n"
     ]
    }
   ],
   "source": [
    "from sklearn.preprocessing import LabelEncoder\n",
    "object_cols = [col for col in total_data.columns if total_data[col].dtype == \"object\"]\n",
    "label_encoder=LabelEncoder()\n",
    "for col in object_cols:\n",
    "    total_data[col]=label_encoder.fit_transform(total_data[col])\n",
    "total_data.info()\n"
   ]
  },
  {
   "cell_type": "markdown",
   "id": "caroline-agenda",
   "metadata": {
    "papermill": {
     "duration": 0.056036,
     "end_time": "2022-10-11T12:13:34.377636",
     "exception": false,
     "start_time": "2022-10-11T12:13:34.321600",
     "status": "completed"
    },
    "tags": []
   },
   "source": [
    "<p id=\"3.5\"></p>\n",
    "<p style=\"text-indent: 1vw; font-family: Arials; font-size: 25px; font-style: normal; font-weight: bold; letter-spacing: 2px; color: mediumseagreen; line-height:1.3;text-align:center\"> \n",
    "<a href=\"#3.5\" style=\"color:mediumseagreen\">3.5 Apply Simple Imputer Method</a></p>\n",
    "\n",
    "<p style=\"text-indent: 1vw; font-family: Arials; font-size:15px; font-style: normal; font-weight: bold; letter-spacing: 2px; line-height:1.3;text-align:center\">Simple imputer method used for handle numerical variable.</p>\n",
    "\n",
    "<a href=\"#10\" style=\"color:tomato;background-color:black\">Back to content click here</a>"
   ]
  },
  {
   "cell_type": "code",
   "execution_count": 22,
   "id": "neither-papua",
   "metadata": {
    "_kg_hide-output": true,
    "execution": {
     "iopub.execute_input": "2022-10-11T12:13:34.495767Z",
     "iopub.status.busy": "2022-10-11T12:13:34.495080Z",
     "iopub.status.idle": "2022-10-11T12:13:34.538789Z",
     "shell.execute_reply": "2022-10-11T12:13:34.538179Z",
     "shell.execute_reply.started": "2021-10-12T16:19:41.727767Z"
    },
    "papermill": {
     "duration": 0.104499,
     "end_time": "2022-10-11T12:13:34.538945",
     "exception": false,
     "start_time": "2022-10-11T12:13:34.434446",
     "status": "completed"
    },
    "tags": []
   },
   "outputs": [
    {
     "data": {
      "text/plain": [
       "MSSubClass      0\n",
       "CentralAir      0\n",
       "1stFlrSF        0\n",
       "2ndFlrSF        0\n",
       "LowQualFinSF    0\n",
       "GrLivArea       0\n",
       "BsmtFullBath    0\n",
       "BsmtHalfBath    0\n",
       "FullBath        0\n",
       "HalfBath        0\n",
       "dtype: int64"
      ]
     },
     "execution_count": 22,
     "metadata": {},
     "output_type": "execute_result"
    }
   ],
   "source": [
    "from sklearn.impute import SimpleImputer\n",
    "numeric_cols = [col for col in total_data.columns if total_data[col].dtype in ['int64','float64']]\n",
    "my_imputer=SimpleImputer(strategy='median')\n",
    "data = pd.DataFrame(my_imputer.fit_transform(total_data))\n",
    "data.columns = total_data.columns\n",
    "a=data.isnull().sum().sort_values(ascending=False)\n",
    "a.head(10)"
   ]
  },
  {
   "cell_type": "markdown",
   "id": "handmade-plaza",
   "metadata": {
    "papermill": {
     "duration": 0.058928,
     "end_time": "2022-10-11T12:13:34.655085",
     "exception": false,
     "start_time": "2022-10-11T12:13:34.596157",
     "status": "completed"
    },
    "tags": []
   },
   "source": [
    "<p id=\"4\"></p>\n",
    "<p style=\"text-indent: 1vw; font-family: Arials; font-size: 40px; font-style: normal; font-weight: bold; letter-spacing: 2px; color: mediumseagreen; line-height:1.3;text-align:center\"> \n",
    "<a href=\"#4\" style=\"color:violet\">4. Feature Engineering</a></p>\n",
    "<a href=\"#10\" style=\"color:tomato;background-color:black\">Back to content click here</a>\n",
    "<hr style=\"height: 0.5px; border: 0; background-color: #808080\">\n"
   ]
  },
  {
   "cell_type": "markdown",
   "id": "solar-occupation",
   "metadata": {
    "papermill": {
     "duration": 0.058581,
     "end_time": "2022-10-11T12:13:34.773289",
     "exception": false,
     "start_time": "2022-10-11T12:13:34.714708",
     "status": "completed"
    },
    "tags": []
   },
   "source": [
    "<p id=\"4.1\"></p>\n",
    "<p style=\"font-family: Arials; font-size: 25px; font-style: normal; font-weight: bold; letter-spacing: 2px; color: mediumseagreen; line-height:1.3;text-align:center\"><a href=\"#4.1\" style=\"color:mediumseagreen\">4.1 Fix The Skewness of Features</a></p>\n",
    "\n",
    "<a href=\"#10\" style=\"color:tomato;background-color:black\">Back to content click here</a>"
   ]
  },
  {
   "cell_type": "code",
   "execution_count": 23,
   "id": "piano-lender",
   "metadata": {
    "execution": {
     "iopub.execute_input": "2022-10-11T12:13:34.893557Z",
     "iopub.status.busy": "2022-10-11T12:13:34.892880Z",
     "iopub.status.idle": "2022-10-11T12:13:34.951103Z",
     "shell.execute_reply": "2022-10-11T12:13:34.949707Z",
     "shell.execute_reply.started": "2021-10-12T16:19:41.777394Z"
    },
    "papermill": {
     "duration": 0.120206,
     "end_time": "2022-10-11T12:13:34.951328",
     "exception": false,
     "start_time": "2022-10-11T12:13:34.831122",
     "status": "completed"
    },
    "tags": []
   },
   "outputs": [],
   "source": [
    "skewed_feats = data[numeric_cols].apply(lambda x: skew(x)).sort_values(ascending=False)\n",
    "for feature in skewed_feats.index:\n",
    "    data[feature] = np.log1p(data[feature])"
   ]
  },
  {
   "cell_type": "markdown",
   "id": "viral-pepper",
   "metadata": {
    "papermill": {
     "duration": 0.058201,
     "end_time": "2022-10-11T12:13:35.071992",
     "exception": false,
     "start_time": "2022-10-11T12:13:35.013791",
     "status": "completed"
    },
    "tags": []
   },
   "source": [
    "<p id=\"4.2\"></p>\n",
    "<p style=\"font-family: Arials; font-size: 25px; font-style: normal; font-weight: bold; letter-spacing: 2px; color: mediumseagreen; line-height:1.3;text-align:center\"><a href=\"#4.2\" style=\"color:mediumseagreen\">4.2 Separate Train and Test After Clean</a></p>\n",
    "<a href=\"#10\" style=\"color:tomato;background-color:black\">Back to content click here</a>"
   ]
  },
  {
   "cell_type": "code",
   "execution_count": 24,
   "id": "bottom-procurement",
   "metadata": {
    "_kg_hide-output": true,
    "execution": {
     "iopub.execute_input": "2022-10-11T12:13:35.192243Z",
     "iopub.status.busy": "2022-10-11T12:13:35.191245Z",
     "iopub.status.idle": "2022-10-11T12:13:35.225131Z",
     "shell.execute_reply": "2022-10-11T12:13:35.225944Z",
     "shell.execute_reply.started": "2021-10-12T16:19:41.833729Z"
    },
    "papermill": {
     "duration": 0.096007,
     "end_time": "2022-10-11T12:13:35.226227",
     "exception": false,
     "start_time": "2022-10-11T12:13:35.130220",
     "status": "completed"
    },
    "tags": []
   },
   "outputs": [
    {
     "name": "stdout",
     "output_type": "stream",
     "text": [
      "<class 'pandas.core.frame.DataFrame'>\n",
      "RangeIndex: 1460 entries, 0 to 1459\n",
      "Data columns (total 61 columns):\n",
      " #   Column         Non-Null Count  Dtype  \n",
      "---  ------         --------------  -----  \n",
      " 0   MSSubClass     1460 non-null   float64\n",
      " 1   MSZoning       1460 non-null   float64\n",
      " 2   LotArea        1460 non-null   float64\n",
      " 3   Street         1460 non-null   float64\n",
      " 4   LotShape       1460 non-null   float64\n",
      " 5   LandContour    1460 non-null   float64\n",
      " 6   Utilities      1460 non-null   float64\n",
      " 7   LotConfig      1460 non-null   float64\n",
      " 8   LandSlope      1460 non-null   float64\n",
      " 9   Neighborhood   1460 non-null   float64\n",
      " 10  Condition1     1460 non-null   float64\n",
      " 11  Condition2     1460 non-null   float64\n",
      " 12  BldgType       1460 non-null   float64\n",
      " 13  HouseStyle     1460 non-null   float64\n",
      " 14  OverallQual    1460 non-null   float64\n",
      " 15  OverallCond    1460 non-null   float64\n",
      " 16  YearBuilt      1460 non-null   float64\n",
      " 17  YearRemodAdd   1460 non-null   float64\n",
      " 18  RoofStyle      1460 non-null   float64\n",
      " 19  RoofMatl       1460 non-null   float64\n",
      " 20  Exterior1st    1460 non-null   float64\n",
      " 21  Exterior2nd    1460 non-null   float64\n",
      " 22  ExterQual      1460 non-null   float64\n",
      " 23  ExterCond      1460 non-null   float64\n",
      " 24  Foundation     1460 non-null   float64\n",
      " 25  BsmtFinSF1     1460 non-null   float64\n",
      " 26  BsmtFinSF2     1460 non-null   float64\n",
      " 27  BsmtUnfSF      1460 non-null   float64\n",
      " 28  TotalBsmtSF    1460 non-null   float64\n",
      " 29  Heating        1460 non-null   float64\n",
      " 30  HeatingQC      1460 non-null   float64\n",
      " 31  CentralAir     1460 non-null   float64\n",
      " 32  Electrical     1460 non-null   float64\n",
      " 33  1stFlrSF       1460 non-null   float64\n",
      " 34  2ndFlrSF       1460 non-null   float64\n",
      " 35  LowQualFinSF   1460 non-null   float64\n",
      " 36  GrLivArea      1460 non-null   float64\n",
      " 37  BsmtFullBath   1460 non-null   float64\n",
      " 38  BsmtHalfBath   1460 non-null   float64\n",
      " 39  FullBath       1460 non-null   float64\n",
      " 40  HalfBath       1460 non-null   float64\n",
      " 41  BedroomAbvGr   1460 non-null   float64\n",
      " 42  KitchenAbvGr   1460 non-null   float64\n",
      " 43  KitchenQual    1460 non-null   float64\n",
      " 44  TotRmsAbvGrd   1460 non-null   float64\n",
      " 45  Functional     1460 non-null   float64\n",
      " 46  Fireplaces     1460 non-null   float64\n",
      " 47  GarageCars     1460 non-null   float64\n",
      " 48  GarageArea     1460 non-null   float64\n",
      " 49  PavedDrive     1460 non-null   float64\n",
      " 50  WoodDeckSF     1460 non-null   float64\n",
      " 51  OpenPorchSF    1460 non-null   float64\n",
      " 52  EnclosedPorch  1460 non-null   float64\n",
      " 53  3SsnPorch      1460 non-null   float64\n",
      " 54  ScreenPorch    1460 non-null   float64\n",
      " 55  PoolArea       1460 non-null   float64\n",
      " 56  MiscVal        1460 non-null   float64\n",
      " 57  MoSold         1460 non-null   float64\n",
      " 58  YrSold         1460 non-null   float64\n",
      " 59  SaleType       1460 non-null   float64\n",
      " 60  SaleCondition  1460 non-null   float64\n",
      "dtypes: float64(61)\n",
      "memory usage: 695.9 KB\n",
      "<class 'pandas.core.frame.DataFrame'>\n",
      "RangeIndex: 1459 entries, 1460 to 2918\n",
      "Data columns (total 61 columns):\n",
      " #   Column         Non-Null Count  Dtype  \n",
      "---  ------         --------------  -----  \n",
      " 0   MSSubClass     1459 non-null   float64\n",
      " 1   MSZoning       1459 non-null   float64\n",
      " 2   LotArea        1459 non-null   float64\n",
      " 3   Street         1459 non-null   float64\n",
      " 4   LotShape       1459 non-null   float64\n",
      " 5   LandContour    1459 non-null   float64\n",
      " 6   Utilities      1459 non-null   float64\n",
      " 7   LotConfig      1459 non-null   float64\n",
      " 8   LandSlope      1459 non-null   float64\n",
      " 9   Neighborhood   1459 non-null   float64\n",
      " 10  Condition1     1459 non-null   float64\n",
      " 11  Condition2     1459 non-null   float64\n",
      " 12  BldgType       1459 non-null   float64\n",
      " 13  HouseStyle     1459 non-null   float64\n",
      " 14  OverallQual    1459 non-null   float64\n",
      " 15  OverallCond    1459 non-null   float64\n",
      " 16  YearBuilt      1459 non-null   float64\n",
      " 17  YearRemodAdd   1459 non-null   float64\n",
      " 18  RoofStyle      1459 non-null   float64\n",
      " 19  RoofMatl       1459 non-null   float64\n",
      " 20  Exterior1st    1459 non-null   float64\n",
      " 21  Exterior2nd    1459 non-null   float64\n",
      " 22  ExterQual      1459 non-null   float64\n",
      " 23  ExterCond      1459 non-null   float64\n",
      " 24  Foundation     1459 non-null   float64\n",
      " 25  BsmtFinSF1     1459 non-null   float64\n",
      " 26  BsmtFinSF2     1459 non-null   float64\n",
      " 27  BsmtUnfSF      1459 non-null   float64\n",
      " 28  TotalBsmtSF    1459 non-null   float64\n",
      " 29  Heating        1459 non-null   float64\n",
      " 30  HeatingQC      1459 non-null   float64\n",
      " 31  CentralAir     1459 non-null   float64\n",
      " 32  Electrical     1459 non-null   float64\n",
      " 33  1stFlrSF       1459 non-null   float64\n",
      " 34  2ndFlrSF       1459 non-null   float64\n",
      " 35  LowQualFinSF   1459 non-null   float64\n",
      " 36  GrLivArea      1459 non-null   float64\n",
      " 37  BsmtFullBath   1459 non-null   float64\n",
      " 38  BsmtHalfBath   1459 non-null   float64\n",
      " 39  FullBath       1459 non-null   float64\n",
      " 40  HalfBath       1459 non-null   float64\n",
      " 41  BedroomAbvGr   1459 non-null   float64\n",
      " 42  KitchenAbvGr   1459 non-null   float64\n",
      " 43  KitchenQual    1459 non-null   float64\n",
      " 44  TotRmsAbvGrd   1459 non-null   float64\n",
      " 45  Functional     1459 non-null   float64\n",
      " 46  Fireplaces     1459 non-null   float64\n",
      " 47  GarageCars     1459 non-null   float64\n",
      " 48  GarageArea     1459 non-null   float64\n",
      " 49  PavedDrive     1459 non-null   float64\n",
      " 50  WoodDeckSF     1459 non-null   float64\n",
      " 51  OpenPorchSF    1459 non-null   float64\n",
      " 52  EnclosedPorch  1459 non-null   float64\n",
      " 53  3SsnPorch      1459 non-null   float64\n",
      " 54  ScreenPorch    1459 non-null   float64\n",
      " 55  PoolArea       1459 non-null   float64\n",
      " 56  MiscVal        1459 non-null   float64\n",
      " 57  MoSold         1459 non-null   float64\n",
      " 58  YrSold         1459 non-null   float64\n",
      " 59  SaleType       1459 non-null   float64\n",
      " 60  SaleCondition  1459 non-null   float64\n",
      "dtypes: float64(61)\n",
      "memory usage: 695.4 KB\n"
     ]
    }
   ],
   "source": [
    "x_train =data[:len(y)]\n",
    "x_test = data[len(y):]\n",
    "x_train.info()\n",
    "x_test.info()"
   ]
  },
  {
   "cell_type": "markdown",
   "id": "surrounded-child",
   "metadata": {
    "papermill": {
     "duration": 0.057868,
     "end_time": "2022-10-11T12:13:35.343577",
     "exception": false,
     "start_time": "2022-10-11T12:13:35.285709",
     "status": "completed"
    },
    "tags": []
   },
   "source": [
    "<p id=\"5\"></p>\n",
    "<p style=\"font-family: Arials; font-size: 40px; font-style: normal; font-weight: bold; letter-spacing: 2px; color: mediumseagreen; line-height:1.3;text-align:center\"><a href=\"#5\" style=\"color:violet\">5. Apply Machine Learning Model</a></p>\n",
    "<a href=\"#10\" style=\"color:tomato;background-color:black\">Back to content click here</a>\n",
    "\n",
    "<hr style=\"height: 0.5px; border: 0; background-color: #808080\">"
   ]
  },
  {
   "cell_type": "markdown",
   "id": "interim-grave",
   "metadata": {
    "papermill": {
     "duration": 0.057993,
     "end_time": "2022-10-11T12:13:35.460508",
     "exception": false,
     "start_time": "2022-10-11T12:13:35.402515",
     "status": "completed"
    },
    "tags": []
   },
   "source": [
    "<p id=\"5.1\"></p>\n",
    "<p style=\"font-family: Arials; font-size: 25px; font-style: normal; font-weight: bold; letter-spacing: 2px; color: mediumseagreen; line-height:1.3;text-align:center\"><a href=\"#5.1\" style=\"color:mediumseagreen\">5.1 Apply XGBOOST Algorithm</a></p>\n",
    "\n",
    "<a href=\"#10\" style=\"color:tomato;background-color:black\">Back to content click here</a>"
   ]
  },
  {
   "cell_type": "code",
   "execution_count": 25,
   "id": "southeast-theme",
   "metadata": {
    "_kg_hide-output": true,
    "execution": {
     "iopub.execute_input": "2022-10-11T12:13:35.580183Z",
     "iopub.status.busy": "2022-10-11T12:13:35.579477Z",
     "iopub.status.idle": "2022-10-11T12:13:43.791845Z",
     "shell.execute_reply": "2022-10-11T12:13:43.791089Z",
     "shell.execute_reply.started": "2021-10-12T16:19:41.867574Z"
    },
    "papermill": {
     "duration": 8.273238,
     "end_time": "2022-10-11T12:13:43.792022",
     "exception": false,
     "start_time": "2022-10-11T12:13:35.518784",
     "status": "completed"
    },
    "tags": []
   },
   "outputs": [
    {
     "data": {
      "text/plain": [
       "XGBRegressor(base_score=0.5, booster='gbtree', colsample_bylevel=1,\n",
       "             colsample_bynode=1, colsample_bytree=1, gamma=0, gpu_id=-1,\n",
       "             importance_type='gain', interaction_constraints='',\n",
       "             learning_rate=0.05, max_delta_step=0, max_depth=6,\n",
       "             min_child_weight=1, missing=nan, monotone_constraints='()',\n",
       "             n_estimators=2000, n_jobs=4, num_parallel_tree=1, random_state=0,\n",
       "             reg_alpha=0, reg_lambda=1, scale_pos_weight=1, subsample=1,\n",
       "             tree_method='exact', validate_parameters=1, verbosity=None)"
      ]
     },
     "execution_count": 25,
     "metadata": {},
     "output_type": "execute_result"
    }
   ],
   "source": [
    "#X_train, X_valid, y_train, y_valid = train_test_split(x_train, y, train_size=0.8, test_size=0.2, random_state=1)\n",
    "model =XGB.XGBRegressor(n_estimators=2000, learning_rate=0.05, n_jobs=4)\n",
    "model.fit(x_train, y)\n",
    "#model.fit(X_train, y_train, \n",
    "             #early_stopping_rounds=5,\n",
    "            #eval_set=[(X_valid, y_valid)],\n",
    "            # verbose=False)\n",
    "#preds = model.predict(X_valid)\n",
    "#print(mean_absolute_error(y_valid, preds))"
   ]
  },
  {
   "cell_type": "markdown",
   "id": "about-zealand",
   "metadata": {
    "papermill": {
     "duration": 0.058757,
     "end_time": "2022-10-11T12:13:43.910258",
     "exception": false,
     "start_time": "2022-10-11T12:13:43.851501",
     "status": "completed"
    },
    "tags": []
   },
   "source": [
    "<p id=\"5.2\"></p>\n",
    "<p style=\"font-family: Arials; font-size: 25px; font-style: normal; font-weight: bold; letter-spacing: 2px; color: mediumseagreen; line-height:1.3;text-align:center\"><a href=\"#5.2\" style=\"color:mediumseagreen\">5.2 Predict Test</a></p>\n",
    "\n",
    "<a href=\"#10\" style=\"color:tomato;background-color:black\">Back to content click here</a>"
   ]
  },
  {
   "cell_type": "code",
   "execution_count": 26,
   "id": "tired-butterfly",
   "metadata": {
    "execution": {
     "iopub.execute_input": "2022-10-11T12:13:44.043096Z",
     "iopub.status.busy": "2022-10-11T12:13:44.032306Z",
     "iopub.status.idle": "2022-10-11T12:13:44.078095Z",
     "shell.execute_reply": "2022-10-11T12:13:44.078714Z",
     "shell.execute_reply.started": "2021-10-12T16:19:48.759737Z"
    },
    "papermill": {
     "duration": 0.111075,
     "end_time": "2022-10-11T12:13:44.078926",
     "exception": false,
     "start_time": "2022-10-11T12:13:43.967851",
     "status": "completed"
    },
    "tags": []
   },
   "outputs": [],
   "source": [
    "predictions = model.predict(x_test)\n"
   ]
  },
  {
   "cell_type": "markdown",
   "id": "everyday-operation",
   "metadata": {
    "papermill": {
     "duration": 0.058004,
     "end_time": "2022-10-11T12:13:44.196676",
     "exception": false,
     "start_time": "2022-10-11T12:13:44.138672",
     "status": "completed"
    },
    "tags": []
   },
   "source": [
    "<p id=\"5.3\"></p>\n",
    "<p style=\"font-family: Arials; font-size: 25px; font-style: normal; font-weight: bold; letter-spacing: 2px; color: mediumseagreen; line-height:1.3;text-align:center;text-align:center\"><a href=\"#5.3\" style=\"color:mediumseagreen\">5.3 Submit Result at Kaggle Competion</a></p>\n",
    "<a href=\"#10\" style=\"color:tomato;background-color:black\">Back to content click here</a>"
   ]
  },
  {
   "cell_type": "code",
   "execution_count": 27,
   "id": "honest-district",
   "metadata": {
    "_kg_hide-output": true,
    "execution": {
     "iopub.execute_input": "2022-10-11T12:13:44.320853Z",
     "iopub.status.busy": "2022-10-11T12:13:44.320143Z",
     "iopub.status.idle": "2022-10-11T12:13:44.339434Z",
     "shell.execute_reply": "2022-10-11T12:13:44.338875Z",
     "shell.execute_reply.started": "2021-10-12T16:19:48.802626Z"
    },
    "papermill": {
     "duration": 0.083869,
     "end_time": "2022-10-11T12:13:44.339595",
     "exception": false,
     "start_time": "2022-10-11T12:13:44.255726",
     "status": "completed"
    },
    "tags": []
   },
   "outputs": [
    {
     "data": {
      "text/html": [
       "<div>\n",
       "<style scoped>\n",
       "    .dataframe tbody tr th:only-of-type {\n",
       "        vertical-align: middle;\n",
       "    }\n",
       "\n",
       "    .dataframe tbody tr th {\n",
       "        vertical-align: top;\n",
       "    }\n",
       "\n",
       "    .dataframe thead th {\n",
       "        text-align: right;\n",
       "    }\n",
       "</style>\n",
       "<table border=\"1\" class=\"dataframe\">\n",
       "  <thead>\n",
       "    <tr style=\"text-align: right;\">\n",
       "      <th></th>\n",
       "      <th>Id</th>\n",
       "      <th>SalePrice</th>\n",
       "    </tr>\n",
       "  </thead>\n",
       "  <tbody>\n",
       "    <tr>\n",
       "      <th>0</th>\n",
       "      <td>1461</td>\n",
       "      <td>127148.593750</td>\n",
       "    </tr>\n",
       "    <tr>\n",
       "      <th>1</th>\n",
       "      <td>1462</td>\n",
       "      <td>158048.656250</td>\n",
       "    </tr>\n",
       "    <tr>\n",
       "      <th>2</th>\n",
       "      <td>1463</td>\n",
       "      <td>183729.218750</td>\n",
       "    </tr>\n",
       "    <tr>\n",
       "      <th>3</th>\n",
       "      <td>1464</td>\n",
       "      <td>187819.812500</td>\n",
       "    </tr>\n",
       "    <tr>\n",
       "      <th>4</th>\n",
       "      <td>1465</td>\n",
       "      <td>196973.468750</td>\n",
       "    </tr>\n",
       "    <tr>\n",
       "      <th>5</th>\n",
       "      <td>1466</td>\n",
       "      <td>172649.109375</td>\n",
       "    </tr>\n",
       "    <tr>\n",
       "      <th>6</th>\n",
       "      <td>1467</td>\n",
       "      <td>173481.140625</td>\n",
       "    </tr>\n",
       "    <tr>\n",
       "      <th>7</th>\n",
       "      <td>1468</td>\n",
       "      <td>169075.796875</td>\n",
       "    </tr>\n",
       "    <tr>\n",
       "      <th>8</th>\n",
       "      <td>1469</td>\n",
       "      <td>178845.062500</td>\n",
       "    </tr>\n",
       "    <tr>\n",
       "      <th>9</th>\n",
       "      <td>1470</td>\n",
       "      <td>121776.367188</td>\n",
       "    </tr>\n",
       "  </tbody>\n",
       "</table>\n",
       "</div>"
      ],
      "text/plain": [
       "     Id      SalePrice\n",
       "0  1461  127148.593750\n",
       "1  1462  158048.656250\n",
       "2  1463  183729.218750\n",
       "3  1464  187819.812500\n",
       "4  1465  196973.468750\n",
       "5  1466  172649.109375\n",
       "6  1467  173481.140625\n",
       "7  1468  169075.796875\n",
       "8  1469  178845.062500\n",
       "9  1470  121776.367188"
      ]
     },
     "execution_count": 27,
     "metadata": {},
     "output_type": "execute_result"
    }
   ],
   "source": [
    "sub = pd.DataFrame()\n",
    "sub['Id'] = test_id\n",
    "sub['SalePrice'] = predictions\n",
    "sub.to_csv('mysubmission.csv',index=False)\n",
    "sub.head(10)"
   ]
  },
  {
   "cell_type": "markdown",
   "id": "induced-religious",
   "metadata": {
    "papermill": {
     "duration": 0.057567,
     "end_time": "2022-10-11T12:13:44.454701",
     "exception": false,
     "start_time": "2022-10-11T12:13:44.397134",
     "status": "completed"
    },
    "tags": []
   },
   "source": [
    "\n",
    "\n",
    "\n",
    "\n",
    "\n",
    "<p style=\"text-indent: 1vw; font-family: Arials; font-size:25px; font-style: normal; font-weight: bold; letter-spacing: 2px; color: mediumseagreen; line-height:1.3;text-align:center;background-color:black;color:tomato;\">If you like a single line of my notebook please an upvote for encourage me.</p>\n",
    "\n",
    "\n",
    "\n",
    "\n",
    "\n",
    "\n",
    "\n"
   ]
  }
 ],
 "metadata": {
  "kernelspec": {
   "display_name": "Python 3",
   "language": "python",
   "name": "python3"
  },
  "language_info": {
   "codemirror_mode": {
    "name": "ipython",
    "version": 3
   },
   "file_extension": ".py",
   "mimetype": "text/x-python",
   "name": "python",
   "nbconvert_exporter": "python",
   "pygments_lexer": "ipython3",
   "version": "3.7.10"
  },
  "papermill": {
   "default_parameters": {},
   "duration": 33.930103,
   "end_time": "2022-10-11T12:13:45.525890",
   "environment_variables": {},
   "exception": null,
   "input_path": "__notebook__.ipynb",
   "output_path": "__notebook__.ipynb",
   "parameters": {},
   "start_time": "2022-10-11T12:13:11.595787",
   "version": "2.3.3"
  }
 },
 "nbformat": 4,
 "nbformat_minor": 5
}
